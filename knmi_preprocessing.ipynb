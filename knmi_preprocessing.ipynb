{
 "cells": [
  {
   "cell_type": "code",
   "execution_count": 2,
   "id": "1651ea18",
   "metadata": {},
   "outputs": [],
   "source": [
    "### import libraries\n",
    "\n",
    "import wradlib as wrl\n",
    "import numpy as np\n",
    "import matplotlib.pyplot as plt\n",
    "from datetime import datetime\n",
    "import datetime as dt\n",
    "from osgeo import osr\n",
    "import tarfile\n",
    "import os\n",
    "import math"
   ]
  },
  {
   "cell_type": "code",
   "execution_count": 4,
   "id": "cfb92b79",
   "metadata": {},
   "outputs": [],
   "source": [
    "def project_radar_data(filename, EPSG, AntennaElev, var):\n",
    "    \"\"\"\n",
    "      Objective: Project the 3D radar data to a coordinate reference system (CRS) specified by an EPSG.\n",
    "\n",
    "      Inputs:\n",
    "          - filename: Name of the hdf5 file to be projected\n",
    "          - EPSG: EPSG code of the coordinate reference system to which the dta will be projected\n",
    "          - AntennaElev: Elevation of the antenna above sea level\n",
    "          - var: Name of the variable to be projected (e.g. Z, Zv, CCOR, CPA, etc)\n",
    "\n",
    "      Outputs:\n",
    "          - data: Array with the values of the variable specified\n",
    "          - xyz: 3D coordinates of each value\n",
    "          - rad_dict: dictionary with data from the radar (e.g. name, num_scans, sitecoords, elevation angles)\n",
    "\n",
    "    \"\"\"\n",
    "    # Read radar data\n",
    "    raw = wrl.io.read_opera_hdf5(filename)\n",
    "\n",
    "    # Name of the antenna\n",
    "    name = str(raw['radar1']['radar_name']).split(\"'\")[1]\n",
    "\n",
    "    #Time of measurement\n",
    "    time = filename.split('_')[-1].split('.')[0]\n",
    "    time = datetime.strptime(time, '%Y%m%d%H%M')\n",
    "\n",
    "    #print('Projecting data for', name,'/', time)\n",
    "\n",
    "    # Get number of scans\n",
    "    num_scans = raw['overview']['number_scan_groups'][0]\n",
    "\n",
    "    # this is the radar position tuple (longitude, latitude, altitude)\n",
    "    sitecoords = (raw['radar1']['radar_location'][0], raw['radar1']['radar_location'][1])\n",
    "\n",
    "    # define the cartesian reference system using the EPSG\n",
    "    proj = osr.SpatialReference()\n",
    "    proj.ImportFromEPSG(EPSG)\n",
    "\n",
    "\n",
    "    # Empty arrays to hold Cartesian coordinates and data\n",
    "\n",
    "\n",
    "    global xyz\n",
    "    global data\n",
    "\n",
    "    xyz, data = np.array([]).reshape((-1, 3)), np.array([])\n",
    "\n",
    "    elevs = []\n",
    "\n",
    "    for i in range(14):\n",
    "\n",
    "        # get the scan metadata, data and calibration for each elevation\n",
    "        meta = raw['scan'+str(i+1)]\n",
    "        what = raw['scan'+str(i+1)+'/scan_'+var+'_data']\n",
    "        calib = raw['scan'+str(i+1)+'/calibration']\n",
    "\n",
    "        naray = what.shape[0]\n",
    "        nbins = what.shape[1]\n",
    "\n",
    "        # define variable with elevation angle and append it to elevs list\n",
    "        el = meta['scan_elevation'][0]\n",
    "        elevs.append(el)\n",
    "\n",
    "        # define array with azimuth angles\n",
    "        az = np.arange(0.0, 360.0, 360.0 / naray).reshape(360,1)\n",
    "\n",
    "\n",
    "        bin_range = (299792458./(2.*meta['scan_high_PRF'][0]))/nbins\n",
    "\n",
    "        # maximum range for the KNMI radar dataset is supposed to be 200 km.\n",
    "        r = np.linspace(0,nbins*bin_range, nbins)\n",
    "        # maximum range for the KNMI radar dataset is assumed to be 200 km.\n",
    "        # r = np.linspace(0,200000, nbins)\n",
    "\n",
    "        # Calibrate data (NEED TO CHECK THIS)\n",
    "        multi = float(str(calib['calibration_'+var+'_formulas']).split('=')[1].split('*')[0])\n",
    "        sum_ = float(str(calib['calibration_'+var+'_formulas']).split('+')[1].split(\"'\")[0])\n",
    "\n",
    "        data_ = sum_ + multi * what\n",
    "\n",
    "        site = (sitecoords[0], sitecoords[1], AntennaElev) # Check if elevation = 50m\n",
    "\n",
    "        # Get volumetric coordinates\n",
    "        xyz_ = wrl.vpr.volcoords_from_polar(site, el, az, ranges = r, proj = proj)\n",
    "\n",
    "\n",
    "        xyz, data = np.vstack((xyz, xyz_)), np.append(data, data_.ravel())\n",
    "\n",
    "    # Radar characteristics\n",
    "    \n",
    "\n",
    "    rad_dict = {'name' : name,\n",
    "                'time': time,\n",
    "                'num_scans' : num_scans,\n",
    "                'sitecoords' : sitecoords,\n",
    "                'elev_ang' : elevs,\n",
    "                'proj':proj}\n",
    "\n",
    "    return data, xyz, rad_dict\n",
    "\n"
   ]
  },
  {
   "cell_type": "code",
   "execution_count": 5,
   "id": "8b2dd896",
   "metadata": {},
   "outputs": [],
   "source": [
    "def interpolate_radar_data(data, coords, proj, sitecoords, maxrange, minelev, maxelev, maxalt, horiz_res, vert_res):\n",
    "    \"\"\"\n",
    "      Objective: Function to interpolate the data in a 3D volume grid\n",
    "\n",
    "      Inputs:\n",
    "          - data: Array with the values of a specified variable\n",
    "          - coords: Array with the xyz coordinates of the specified variable\n",
    "          - proj: CRS to which the data will be projected\n",
    "          - sitecoords: Location of the radar antenna\n",
    "          - Remaining are related to the resolution desired\n",
    "\n",
    "      Outputs:\n",
    "          - vol: Masked array with the values of the specified variable\n",
    "          - xyz: list with x, y and z the coordinates\n",
    "    \"\"\"\n",
    "    # Create 3D grid\n",
    "    trgxyz, trgshape = wrl.vpr.make_3d_grid(sitecoords, proj, maxrange, maxalt, horiz_res, vert_res)\n",
    "\n",
    "    x = trgxyz[:, 0].reshape(trgshape)[0, 0, :]\n",
    "    y = trgxyz[:, 1].reshape(trgshape)[0, :, 0]\n",
    "    z = trgxyz[:, 2].reshape(trgshape)[:, 0, 0]\n",
    "\n",
    "    xyz = [x, y, z]\n",
    "\n",
    "    # interpolate to Cartesian 3-D volume grid\n",
    "    gridder = wrl.vpr.CAPPI(coords, trgxyz, trgshape, maxrange, minelev, maxelev)\n",
    "    vol = np.ma.masked_invalid(gridder(data).reshape(trgshape))\n",
    "\n",
    "    return vol, xyz"
   ]
  },
  {
   "cell_type": "code",
   "execution_count": 6,
   "id": "8fd01a72",
   "metadata": {},
   "outputs": [],
   "source": [
    "def rasterize_agg(vol, coords, res_params, EPSG,agg_fun = np.max):\n",
    "    \"\"\"\n",
    "      Objective: Function to rasterize the volume using an aggregating function\n",
    "\n",
    "      Inputs:\n",
    "          - vol: Masked array with the values of the specified variable.\n",
    "          - coords: list with the x, y, z coordinates.\n",
    "          - res_params: dictionary with the resolution parameters.\n",
    "          - EPSG: Code of CRS to which the data will be projected.\n",
    "          - output_tif: Filename of the tif file.\n",
    "\n",
    "      Outputs:\n",
    "          - vol: sliced volume for the spcified Elev_ASL\n",
    "          - XY: coordinates for the specified Elev_ASL\n",
    "\n",
    "    \"\"\"\n",
    "\n",
    "\n",
    "    x, y, z = coords[0], coords[1], coords[2]\n",
    "\n",
    "    xres = res_params['horiz_res']\n",
    "    yres = res_params['horiz_res']\n",
    "\n",
    "    vol = agg_fun(vol, axis = 0)\n",
    "    \n",
    "    side = round((len(vol)-round(math.sqrt(len(vol)**2/2)))/2)\n",
    "    vol_ = vol[side:len(vol)-side,side:len(vol)-side]\n",
    "\n",
    "    return vol_"
   ]
  },
  {
   "cell_type": "code",
   "execution_count": 8,
   "id": "bbeeefd6",
   "metadata": {
    "scrolled": true
   },
   "outputs": [
    {
     "name": "stderr",
     "output_type": "stream",
     "text": [
      "c:\\Users\\Aleja\\anaconda3\\envs\\geospatial\\Lib\\site-packages\\wradlib\\vpr.py:103: DeprecationWarning: ``gridshape`` is not used in <class 'wradlib.vpr.CAPPI'>. It will be removed in wradlib version 2.0.\n",
      "  warnings.warn(\n"
     ]
    },
    {
     "name": "stdout",
     "output_type": "stream",
     "text": [
      "appended image Weather_3D\\20230115\\RAD_NL62_VOL_NA_202301150000.h5\n"
     ]
    },
    {
     "name": "stderr",
     "output_type": "stream",
     "text": [
      "c:\\Users\\Aleja\\anaconda3\\envs\\geospatial\\Lib\\site-packages\\wradlib\\vpr.py:103: DeprecationWarning: ``gridshape`` is not used in <class 'wradlib.vpr.CAPPI'>. It will be removed in wradlib version 2.0.\n",
      "  warnings.warn(\n"
     ]
    },
    {
     "name": "stdout",
     "output_type": "stream",
     "text": [
      "appended image Weather_3D\\20230115\\RAD_NL62_VOL_NA_202301150005.h5\n"
     ]
    },
    {
     "name": "stderr",
     "output_type": "stream",
     "text": [
      "c:\\Users\\Aleja\\anaconda3\\envs\\geospatial\\Lib\\site-packages\\wradlib\\vpr.py:103: DeprecationWarning: ``gridshape`` is not used in <class 'wradlib.vpr.CAPPI'>. It will be removed in wradlib version 2.0.\n",
      "  warnings.warn(\n"
     ]
    },
    {
     "name": "stdout",
     "output_type": "stream",
     "text": [
      "appended image Weather_3D\\20230115\\RAD_NL62_VOL_NA_202301150010.h5\n"
     ]
    },
    {
     "name": "stderr",
     "output_type": "stream",
     "text": [
      "c:\\Users\\Aleja\\anaconda3\\envs\\geospatial\\Lib\\site-packages\\wradlib\\vpr.py:103: DeprecationWarning: ``gridshape`` is not used in <class 'wradlib.vpr.CAPPI'>. It will be removed in wradlib version 2.0.\n",
      "  warnings.warn(\n"
     ]
    },
    {
     "name": "stdout",
     "output_type": "stream",
     "text": [
      "appended image Weather_3D\\20230115\\RAD_NL62_VOL_NA_202301150015.h5\n"
     ]
    },
    {
     "name": "stderr",
     "output_type": "stream",
     "text": [
      "c:\\Users\\Aleja\\anaconda3\\envs\\geospatial\\Lib\\site-packages\\wradlib\\vpr.py:103: DeprecationWarning: ``gridshape`` is not used in <class 'wradlib.vpr.CAPPI'>. It will be removed in wradlib version 2.0.\n",
      "  warnings.warn(\n"
     ]
    },
    {
     "name": "stdout",
     "output_type": "stream",
     "text": [
      "appended image Weather_3D\\20230115\\RAD_NL62_VOL_NA_202301150020.h5\n"
     ]
    },
    {
     "name": "stderr",
     "output_type": "stream",
     "text": [
      "c:\\Users\\Aleja\\anaconda3\\envs\\geospatial\\Lib\\site-packages\\wradlib\\vpr.py:103: DeprecationWarning: ``gridshape`` is not used in <class 'wradlib.vpr.CAPPI'>. It will be removed in wradlib version 2.0.\n",
      "  warnings.warn(\n"
     ]
    },
    {
     "name": "stdout",
     "output_type": "stream",
     "text": [
      "appended image Weather_3D\\20230115\\RAD_NL62_VOL_NA_202301150025.h5\n"
     ]
    },
    {
     "name": "stderr",
     "output_type": "stream",
     "text": [
      "c:\\Users\\Aleja\\anaconda3\\envs\\geospatial\\Lib\\site-packages\\wradlib\\vpr.py:103: DeprecationWarning: ``gridshape`` is not used in <class 'wradlib.vpr.CAPPI'>. It will be removed in wradlib version 2.0.\n",
      "  warnings.warn(\n"
     ]
    },
    {
     "name": "stdout",
     "output_type": "stream",
     "text": [
      "appended image Weather_3D\\20230115\\RAD_NL62_VOL_NA_202301150030.h5\n"
     ]
    },
    {
     "name": "stderr",
     "output_type": "stream",
     "text": [
      "c:\\Users\\Aleja\\anaconda3\\envs\\geospatial\\Lib\\site-packages\\wradlib\\vpr.py:103: DeprecationWarning: ``gridshape`` is not used in <class 'wradlib.vpr.CAPPI'>. It will be removed in wradlib version 2.0.\n",
      "  warnings.warn(\n"
     ]
    },
    {
     "name": "stdout",
     "output_type": "stream",
     "text": [
      "appended image Weather_3D\\20230115\\RAD_NL62_VOL_NA_202301150035.h5\n"
     ]
    },
    {
     "name": "stderr",
     "output_type": "stream",
     "text": [
      "c:\\Users\\Aleja\\anaconda3\\envs\\geospatial\\Lib\\site-packages\\wradlib\\vpr.py:103: DeprecationWarning: ``gridshape`` is not used in <class 'wradlib.vpr.CAPPI'>. It will be removed in wradlib version 2.0.\n",
      "  warnings.warn(\n"
     ]
    },
    {
     "name": "stdout",
     "output_type": "stream",
     "text": [
      "appended image Weather_3D\\20230115\\RAD_NL62_VOL_NA_202301150040.h5\n"
     ]
    },
    {
     "name": "stderr",
     "output_type": "stream",
     "text": [
      "c:\\Users\\Aleja\\anaconda3\\envs\\geospatial\\Lib\\site-packages\\wradlib\\vpr.py:103: DeprecationWarning: ``gridshape`` is not used in <class 'wradlib.vpr.CAPPI'>. It will be removed in wradlib version 2.0.\n",
      "  warnings.warn(\n"
     ]
    },
    {
     "name": "stdout",
     "output_type": "stream",
     "text": [
      "appended image Weather_3D\\20230115\\RAD_NL62_VOL_NA_202301150045.h5\n"
     ]
    },
    {
     "name": "stderr",
     "output_type": "stream",
     "text": [
      "c:\\Users\\Aleja\\anaconda3\\envs\\geospatial\\Lib\\site-packages\\wradlib\\vpr.py:103: DeprecationWarning: ``gridshape`` is not used in <class 'wradlib.vpr.CAPPI'>. It will be removed in wradlib version 2.0.\n",
      "  warnings.warn(\n"
     ]
    },
    {
     "name": "stdout",
     "output_type": "stream",
     "text": [
      "appended image Weather_3D\\20230115\\RAD_NL62_VOL_NA_202301150050.h5\n"
     ]
    },
    {
     "name": "stderr",
     "output_type": "stream",
     "text": [
      "c:\\Users\\Aleja\\anaconda3\\envs\\geospatial\\Lib\\site-packages\\wradlib\\vpr.py:103: DeprecationWarning: ``gridshape`` is not used in <class 'wradlib.vpr.CAPPI'>. It will be removed in wradlib version 2.0.\n",
      "  warnings.warn(\n"
     ]
    },
    {
     "name": "stdout",
     "output_type": "stream",
     "text": [
      "appended image Weather_3D\\20230115\\RAD_NL62_VOL_NA_202301150055.h5\n"
     ]
    },
    {
     "name": "stderr",
     "output_type": "stream",
     "text": [
      "c:\\Users\\Aleja\\anaconda3\\envs\\geospatial\\Lib\\site-packages\\wradlib\\vpr.py:103: DeprecationWarning: ``gridshape`` is not used in <class 'wradlib.vpr.CAPPI'>. It will be removed in wradlib version 2.0.\n",
      "  warnings.warn(\n"
     ]
    },
    {
     "name": "stdout",
     "output_type": "stream",
     "text": [
      "appended image Weather_3D\\20230115\\RAD_NL62_VOL_NA_202301150100.h5\n"
     ]
    },
    {
     "name": "stderr",
     "output_type": "stream",
     "text": [
      "c:\\Users\\Aleja\\anaconda3\\envs\\geospatial\\Lib\\site-packages\\wradlib\\vpr.py:103: DeprecationWarning: ``gridshape`` is not used in <class 'wradlib.vpr.CAPPI'>. It will be removed in wradlib version 2.0.\n",
      "  warnings.warn(\n"
     ]
    },
    {
     "name": "stdout",
     "output_type": "stream",
     "text": [
      "appended image Weather_3D\\20230115\\RAD_NL62_VOL_NA_202301150105.h5\n"
     ]
    },
    {
     "name": "stderr",
     "output_type": "stream",
     "text": [
      "c:\\Users\\Aleja\\anaconda3\\envs\\geospatial\\Lib\\site-packages\\wradlib\\vpr.py:103: DeprecationWarning: ``gridshape`` is not used in <class 'wradlib.vpr.CAPPI'>. It will be removed in wradlib version 2.0.\n",
      "  warnings.warn(\n"
     ]
    },
    {
     "name": "stdout",
     "output_type": "stream",
     "text": [
      "appended image Weather_3D\\20230115\\RAD_NL62_VOL_NA_202301150110.h5\n"
     ]
    },
    {
     "name": "stderr",
     "output_type": "stream",
     "text": [
      "c:\\Users\\Aleja\\anaconda3\\envs\\geospatial\\Lib\\site-packages\\wradlib\\vpr.py:103: DeprecationWarning: ``gridshape`` is not used in <class 'wradlib.vpr.CAPPI'>. It will be removed in wradlib version 2.0.\n",
      "  warnings.warn(\n"
     ]
    },
    {
     "name": "stdout",
     "output_type": "stream",
     "text": [
      "appended image Weather_3D\\20230115\\RAD_NL62_VOL_NA_202301150115.h5\n"
     ]
    },
    {
     "name": "stderr",
     "output_type": "stream",
     "text": [
      "c:\\Users\\Aleja\\anaconda3\\envs\\geospatial\\Lib\\site-packages\\wradlib\\vpr.py:103: DeprecationWarning: ``gridshape`` is not used in <class 'wradlib.vpr.CAPPI'>. It will be removed in wradlib version 2.0.\n",
      "  warnings.warn(\n"
     ]
    },
    {
     "name": "stdout",
     "output_type": "stream",
     "text": [
      "appended image Weather_3D\\20230115\\RAD_NL62_VOL_NA_202301150120.h5\n"
     ]
    },
    {
     "name": "stderr",
     "output_type": "stream",
     "text": [
      "c:\\Users\\Aleja\\anaconda3\\envs\\geospatial\\Lib\\site-packages\\wradlib\\vpr.py:103: DeprecationWarning: ``gridshape`` is not used in <class 'wradlib.vpr.CAPPI'>. It will be removed in wradlib version 2.0.\n",
      "  warnings.warn(\n"
     ]
    },
    {
     "name": "stdout",
     "output_type": "stream",
     "text": [
      "appended image Weather_3D\\20230115\\RAD_NL62_VOL_NA_202301150125.h5\n"
     ]
    },
    {
     "name": "stderr",
     "output_type": "stream",
     "text": [
      "c:\\Users\\Aleja\\anaconda3\\envs\\geospatial\\Lib\\site-packages\\wradlib\\vpr.py:103: DeprecationWarning: ``gridshape`` is not used in <class 'wradlib.vpr.CAPPI'>. It will be removed in wradlib version 2.0.\n",
      "  warnings.warn(\n"
     ]
    },
    {
     "name": "stdout",
     "output_type": "stream",
     "text": [
      "appended image Weather_3D\\20230115\\RAD_NL62_VOL_NA_202301150130.h5\n"
     ]
    },
    {
     "name": "stderr",
     "output_type": "stream",
     "text": [
      "c:\\Users\\Aleja\\anaconda3\\envs\\geospatial\\Lib\\site-packages\\wradlib\\vpr.py:103: DeprecationWarning: ``gridshape`` is not used in <class 'wradlib.vpr.CAPPI'>. It will be removed in wradlib version 2.0.\n",
      "  warnings.warn(\n"
     ]
    },
    {
     "name": "stdout",
     "output_type": "stream",
     "text": [
      "appended image Weather_3D\\20230115\\RAD_NL62_VOL_NA_202301150135.h5\n"
     ]
    },
    {
     "name": "stderr",
     "output_type": "stream",
     "text": [
      "c:\\Users\\Aleja\\anaconda3\\envs\\geospatial\\Lib\\site-packages\\wradlib\\vpr.py:103: DeprecationWarning: ``gridshape`` is not used in <class 'wradlib.vpr.CAPPI'>. It will be removed in wradlib version 2.0.\n",
      "  warnings.warn(\n"
     ]
    },
    {
     "name": "stdout",
     "output_type": "stream",
     "text": [
      "appended image Weather_3D\\20230115\\RAD_NL62_VOL_NA_202301150140.h5\n"
     ]
    },
    {
     "name": "stderr",
     "output_type": "stream",
     "text": [
      "c:\\Users\\Aleja\\anaconda3\\envs\\geospatial\\Lib\\site-packages\\wradlib\\vpr.py:103: DeprecationWarning: ``gridshape`` is not used in <class 'wradlib.vpr.CAPPI'>. It will be removed in wradlib version 2.0.\n",
      "  warnings.warn(\n"
     ]
    },
    {
     "name": "stdout",
     "output_type": "stream",
     "text": [
      "appended image Weather_3D\\20230115\\RAD_NL62_VOL_NA_202301150145.h5\n"
     ]
    },
    {
     "name": "stderr",
     "output_type": "stream",
     "text": [
      "c:\\Users\\Aleja\\anaconda3\\envs\\geospatial\\Lib\\site-packages\\wradlib\\vpr.py:103: DeprecationWarning: ``gridshape`` is not used in <class 'wradlib.vpr.CAPPI'>. It will be removed in wradlib version 2.0.\n",
      "  warnings.warn(\n"
     ]
    },
    {
     "name": "stdout",
     "output_type": "stream",
     "text": [
      "appended image Weather_3D\\20230115\\RAD_NL62_VOL_NA_202301150150.h5\n"
     ]
    },
    {
     "name": "stderr",
     "output_type": "stream",
     "text": [
      "c:\\Users\\Aleja\\anaconda3\\envs\\geospatial\\Lib\\site-packages\\wradlib\\vpr.py:103: DeprecationWarning: ``gridshape`` is not used in <class 'wradlib.vpr.CAPPI'>. It will be removed in wradlib version 2.0.\n",
      "  warnings.warn(\n"
     ]
    },
    {
     "name": "stdout",
     "output_type": "stream",
     "text": [
      "appended image Weather_3D\\20230115\\RAD_NL62_VOL_NA_202301150155.h5\n"
     ]
    },
    {
     "name": "stderr",
     "output_type": "stream",
     "text": [
      "c:\\Users\\Aleja\\anaconda3\\envs\\geospatial\\Lib\\site-packages\\wradlib\\vpr.py:103: DeprecationWarning: ``gridshape`` is not used in <class 'wradlib.vpr.CAPPI'>. It will be removed in wradlib version 2.0.\n",
      "  warnings.warn(\n"
     ]
    },
    {
     "name": "stdout",
     "output_type": "stream",
     "text": [
      "appended image Weather_3D\\20230115\\RAD_NL62_VOL_NA_202301150200.h5\n"
     ]
    },
    {
     "name": "stderr",
     "output_type": "stream",
     "text": [
      "c:\\Users\\Aleja\\anaconda3\\envs\\geospatial\\Lib\\site-packages\\wradlib\\vpr.py:103: DeprecationWarning: ``gridshape`` is not used in <class 'wradlib.vpr.CAPPI'>. It will be removed in wradlib version 2.0.\n",
      "  warnings.warn(\n"
     ]
    },
    {
     "name": "stdout",
     "output_type": "stream",
     "text": [
      "appended image Weather_3D\\20230115\\RAD_NL62_VOL_NA_202301150205.h5\n"
     ]
    },
    {
     "name": "stderr",
     "output_type": "stream",
     "text": [
      "c:\\Users\\Aleja\\anaconda3\\envs\\geospatial\\Lib\\site-packages\\wradlib\\vpr.py:103: DeprecationWarning: ``gridshape`` is not used in <class 'wradlib.vpr.CAPPI'>. It will be removed in wradlib version 2.0.\n",
      "  warnings.warn(\n"
     ]
    },
    {
     "name": "stdout",
     "output_type": "stream",
     "text": [
      "appended image Weather_3D\\20230115\\RAD_NL62_VOL_NA_202301150210.h5\n"
     ]
    },
    {
     "name": "stderr",
     "output_type": "stream",
     "text": [
      "c:\\Users\\Aleja\\anaconda3\\envs\\geospatial\\Lib\\site-packages\\wradlib\\vpr.py:103: DeprecationWarning: ``gridshape`` is not used in <class 'wradlib.vpr.CAPPI'>. It will be removed in wradlib version 2.0.\n",
      "  warnings.warn(\n"
     ]
    },
    {
     "name": "stdout",
     "output_type": "stream",
     "text": [
      "appended image Weather_3D\\20230115\\RAD_NL62_VOL_NA_202301150215.h5\n"
     ]
    },
    {
     "name": "stderr",
     "output_type": "stream",
     "text": [
      "c:\\Users\\Aleja\\anaconda3\\envs\\geospatial\\Lib\\site-packages\\wradlib\\vpr.py:103: DeprecationWarning: ``gridshape`` is not used in <class 'wradlib.vpr.CAPPI'>. It will be removed in wradlib version 2.0.\n",
      "  warnings.warn(\n"
     ]
    },
    {
     "name": "stdout",
     "output_type": "stream",
     "text": [
      "appended image Weather_3D\\20230115\\RAD_NL62_VOL_NA_202301150220.h5\n"
     ]
    },
    {
     "name": "stderr",
     "output_type": "stream",
     "text": [
      "c:\\Users\\Aleja\\anaconda3\\envs\\geospatial\\Lib\\site-packages\\wradlib\\vpr.py:103: DeprecationWarning: ``gridshape`` is not used in <class 'wradlib.vpr.CAPPI'>. It will be removed in wradlib version 2.0.\n",
      "  warnings.warn(\n"
     ]
    },
    {
     "name": "stdout",
     "output_type": "stream",
     "text": [
      "appended image Weather_3D\\20230115\\RAD_NL62_VOL_NA_202301150225.h5\n"
     ]
    },
    {
     "name": "stderr",
     "output_type": "stream",
     "text": [
      "c:\\Users\\Aleja\\anaconda3\\envs\\geospatial\\Lib\\site-packages\\wradlib\\vpr.py:103: DeprecationWarning: ``gridshape`` is not used in <class 'wradlib.vpr.CAPPI'>. It will be removed in wradlib version 2.0.\n",
      "  warnings.warn(\n"
     ]
    },
    {
     "name": "stdout",
     "output_type": "stream",
     "text": [
      "appended image Weather_3D\\20230115\\RAD_NL62_VOL_NA_202301150230.h5\n"
     ]
    },
    {
     "name": "stderr",
     "output_type": "stream",
     "text": [
      "c:\\Users\\Aleja\\anaconda3\\envs\\geospatial\\Lib\\site-packages\\wradlib\\vpr.py:103: DeprecationWarning: ``gridshape`` is not used in <class 'wradlib.vpr.CAPPI'>. It will be removed in wradlib version 2.0.\n",
      "  warnings.warn(\n"
     ]
    },
    {
     "name": "stdout",
     "output_type": "stream",
     "text": [
      "appended image Weather_3D\\20230115\\RAD_NL62_VOL_NA_202301150235.h5\n"
     ]
    },
    {
     "name": "stderr",
     "output_type": "stream",
     "text": [
      "c:\\Users\\Aleja\\anaconda3\\envs\\geospatial\\Lib\\site-packages\\wradlib\\vpr.py:103: DeprecationWarning: ``gridshape`` is not used in <class 'wradlib.vpr.CAPPI'>. It will be removed in wradlib version 2.0.\n",
      "  warnings.warn(\n"
     ]
    },
    {
     "name": "stdout",
     "output_type": "stream",
     "text": [
      "appended image Weather_3D\\20230115\\RAD_NL62_VOL_NA_202301150240.h5\n"
     ]
    },
    {
     "name": "stderr",
     "output_type": "stream",
     "text": [
      "c:\\Users\\Aleja\\anaconda3\\envs\\geospatial\\Lib\\site-packages\\wradlib\\vpr.py:103: DeprecationWarning: ``gridshape`` is not used in <class 'wradlib.vpr.CAPPI'>. It will be removed in wradlib version 2.0.\n",
      "  warnings.warn(\n"
     ]
    },
    {
     "name": "stdout",
     "output_type": "stream",
     "text": [
      "appended image Weather_3D\\20230115\\RAD_NL62_VOL_NA_202301150245.h5\n"
     ]
    },
    {
     "name": "stderr",
     "output_type": "stream",
     "text": [
      "c:\\Users\\Aleja\\anaconda3\\envs\\geospatial\\Lib\\site-packages\\wradlib\\vpr.py:103: DeprecationWarning: ``gridshape`` is not used in <class 'wradlib.vpr.CAPPI'>. It will be removed in wradlib version 2.0.\n",
      "  warnings.warn(\n"
     ]
    },
    {
     "name": "stdout",
     "output_type": "stream",
     "text": [
      "appended image Weather_3D\\20230115\\RAD_NL62_VOL_NA_202301150250.h5\n"
     ]
    },
    {
     "name": "stderr",
     "output_type": "stream",
     "text": [
      "c:\\Users\\Aleja\\anaconda3\\envs\\geospatial\\Lib\\site-packages\\wradlib\\vpr.py:103: DeprecationWarning: ``gridshape`` is not used in <class 'wradlib.vpr.CAPPI'>. It will be removed in wradlib version 2.0.\n",
      "  warnings.warn(\n"
     ]
    },
    {
     "name": "stdout",
     "output_type": "stream",
     "text": [
      "appended image Weather_3D\\20230115\\RAD_NL62_VOL_NA_202301150255.h5\n"
     ]
    },
    {
     "name": "stderr",
     "output_type": "stream",
     "text": [
      "c:\\Users\\Aleja\\anaconda3\\envs\\geospatial\\Lib\\site-packages\\wradlib\\vpr.py:103: DeprecationWarning: ``gridshape`` is not used in <class 'wradlib.vpr.CAPPI'>. It will be removed in wradlib version 2.0.\n",
      "  warnings.warn(\n"
     ]
    },
    {
     "name": "stdout",
     "output_type": "stream",
     "text": [
      "appended image Weather_3D\\20230115\\RAD_NL62_VOL_NA_202301150300.h5\n"
     ]
    },
    {
     "name": "stderr",
     "output_type": "stream",
     "text": [
      "c:\\Users\\Aleja\\anaconda3\\envs\\geospatial\\Lib\\site-packages\\wradlib\\vpr.py:103: DeprecationWarning: ``gridshape`` is not used in <class 'wradlib.vpr.CAPPI'>. It will be removed in wradlib version 2.0.\n",
      "  warnings.warn(\n"
     ]
    },
    {
     "name": "stdout",
     "output_type": "stream",
     "text": [
      "appended image Weather_3D\\20230115\\RAD_NL62_VOL_NA_202301150305.h5\n"
     ]
    },
    {
     "name": "stderr",
     "output_type": "stream",
     "text": [
      "c:\\Users\\Aleja\\anaconda3\\envs\\geospatial\\Lib\\site-packages\\wradlib\\vpr.py:103: DeprecationWarning: ``gridshape`` is not used in <class 'wradlib.vpr.CAPPI'>. It will be removed in wradlib version 2.0.\n",
      "  warnings.warn(\n"
     ]
    },
    {
     "name": "stdout",
     "output_type": "stream",
     "text": [
      "appended image Weather_3D\\20230115\\RAD_NL62_VOL_NA_202301150310.h5\n"
     ]
    },
    {
     "name": "stderr",
     "output_type": "stream",
     "text": [
      "c:\\Users\\Aleja\\anaconda3\\envs\\geospatial\\Lib\\site-packages\\wradlib\\vpr.py:103: DeprecationWarning: ``gridshape`` is not used in <class 'wradlib.vpr.CAPPI'>. It will be removed in wradlib version 2.0.\n",
      "  warnings.warn(\n"
     ]
    },
    {
     "name": "stdout",
     "output_type": "stream",
     "text": [
      "appended image Weather_3D\\20230115\\RAD_NL62_VOL_NA_202301150315.h5\n"
     ]
    },
    {
     "name": "stderr",
     "output_type": "stream",
     "text": [
      "c:\\Users\\Aleja\\anaconda3\\envs\\geospatial\\Lib\\site-packages\\wradlib\\vpr.py:103: DeprecationWarning: ``gridshape`` is not used in <class 'wradlib.vpr.CAPPI'>. It will be removed in wradlib version 2.0.\n",
      "  warnings.warn(\n"
     ]
    },
    {
     "name": "stdout",
     "output_type": "stream",
     "text": [
      "appended image Weather_3D\\20230115\\RAD_NL62_VOL_NA_202301150320.h5\n"
     ]
    },
    {
     "name": "stderr",
     "output_type": "stream",
     "text": [
      "c:\\Users\\Aleja\\anaconda3\\envs\\geospatial\\Lib\\site-packages\\wradlib\\vpr.py:103: DeprecationWarning: ``gridshape`` is not used in <class 'wradlib.vpr.CAPPI'>. It will be removed in wradlib version 2.0.\n",
      "  warnings.warn(\n"
     ]
    },
    {
     "name": "stdout",
     "output_type": "stream",
     "text": [
      "appended image Weather_3D\\20230115\\RAD_NL62_VOL_NA_202301150325.h5\n"
     ]
    },
    {
     "name": "stderr",
     "output_type": "stream",
     "text": [
      "c:\\Users\\Aleja\\anaconda3\\envs\\geospatial\\Lib\\site-packages\\wradlib\\vpr.py:103: DeprecationWarning: ``gridshape`` is not used in <class 'wradlib.vpr.CAPPI'>. It will be removed in wradlib version 2.0.\n",
      "  warnings.warn(\n"
     ]
    },
    {
     "name": "stdout",
     "output_type": "stream",
     "text": [
      "appended image Weather_3D\\20230115\\RAD_NL62_VOL_NA_202301150330.h5\n"
     ]
    },
    {
     "name": "stderr",
     "output_type": "stream",
     "text": [
      "c:\\Users\\Aleja\\anaconda3\\envs\\geospatial\\Lib\\site-packages\\wradlib\\vpr.py:103: DeprecationWarning: ``gridshape`` is not used in <class 'wradlib.vpr.CAPPI'>. It will be removed in wradlib version 2.0.\n",
      "  warnings.warn(\n"
     ]
    },
    {
     "name": "stdout",
     "output_type": "stream",
     "text": [
      "appended image Weather_3D\\20230115\\RAD_NL62_VOL_NA_202301150335.h5\n"
     ]
    },
    {
     "name": "stderr",
     "output_type": "stream",
     "text": [
      "c:\\Users\\Aleja\\anaconda3\\envs\\geospatial\\Lib\\site-packages\\wradlib\\vpr.py:103: DeprecationWarning: ``gridshape`` is not used in <class 'wradlib.vpr.CAPPI'>. It will be removed in wradlib version 2.0.\n",
      "  warnings.warn(\n"
     ]
    },
    {
     "name": "stdout",
     "output_type": "stream",
     "text": [
      "appended image Weather_3D\\20230115\\RAD_NL62_VOL_NA_202301150340.h5\n"
     ]
    },
    {
     "name": "stderr",
     "output_type": "stream",
     "text": [
      "c:\\Users\\Aleja\\anaconda3\\envs\\geospatial\\Lib\\site-packages\\wradlib\\vpr.py:103: DeprecationWarning: ``gridshape`` is not used in <class 'wradlib.vpr.CAPPI'>. It will be removed in wradlib version 2.0.\n",
      "  warnings.warn(\n"
     ]
    },
    {
     "name": "stdout",
     "output_type": "stream",
     "text": [
      "appended image Weather_3D\\20230115\\RAD_NL62_VOL_NA_202301150345.h5\n"
     ]
    },
    {
     "name": "stderr",
     "output_type": "stream",
     "text": [
      "c:\\Users\\Aleja\\anaconda3\\envs\\geospatial\\Lib\\site-packages\\wradlib\\vpr.py:103: DeprecationWarning: ``gridshape`` is not used in <class 'wradlib.vpr.CAPPI'>. It will be removed in wradlib version 2.0.\n",
      "  warnings.warn(\n"
     ]
    },
    {
     "name": "stdout",
     "output_type": "stream",
     "text": [
      "appended image Weather_3D\\20230115\\RAD_NL62_VOL_NA_202301150350.h5\n"
     ]
    },
    {
     "name": "stderr",
     "output_type": "stream",
     "text": [
      "c:\\Users\\Aleja\\anaconda3\\envs\\geospatial\\Lib\\site-packages\\wradlib\\vpr.py:103: DeprecationWarning: ``gridshape`` is not used in <class 'wradlib.vpr.CAPPI'>. It will be removed in wradlib version 2.0.\n",
      "  warnings.warn(\n"
     ]
    },
    {
     "name": "stdout",
     "output_type": "stream",
     "text": [
      "appended image Weather_3D\\20230115\\RAD_NL62_VOL_NA_202301150355.h5\n"
     ]
    },
    {
     "name": "stderr",
     "output_type": "stream",
     "text": [
      "c:\\Users\\Aleja\\anaconda3\\envs\\geospatial\\Lib\\site-packages\\wradlib\\vpr.py:103: DeprecationWarning: ``gridshape`` is not used in <class 'wradlib.vpr.CAPPI'>. It will be removed in wradlib version 2.0.\n",
      "  warnings.warn(\n"
     ]
    },
    {
     "name": "stdout",
     "output_type": "stream",
     "text": [
      "appended image Weather_3D\\20230115\\RAD_NL62_VOL_NA_202301150400.h5\n"
     ]
    },
    {
     "name": "stderr",
     "output_type": "stream",
     "text": [
      "c:\\Users\\Aleja\\anaconda3\\envs\\geospatial\\Lib\\site-packages\\wradlib\\vpr.py:103: DeprecationWarning: ``gridshape`` is not used in <class 'wradlib.vpr.CAPPI'>. It will be removed in wradlib version 2.0.\n",
      "  warnings.warn(\n"
     ]
    },
    {
     "name": "stdout",
     "output_type": "stream",
     "text": [
      "appended image Weather_3D\\20230115\\RAD_NL62_VOL_NA_202301150405.h5\n"
     ]
    },
    {
     "name": "stderr",
     "output_type": "stream",
     "text": [
      "c:\\Users\\Aleja\\anaconda3\\envs\\geospatial\\Lib\\site-packages\\wradlib\\vpr.py:103: DeprecationWarning: ``gridshape`` is not used in <class 'wradlib.vpr.CAPPI'>. It will be removed in wradlib version 2.0.\n",
      "  warnings.warn(\n"
     ]
    },
    {
     "name": "stdout",
     "output_type": "stream",
     "text": [
      "appended image Weather_3D\\20230115\\RAD_NL62_VOL_NA_202301150410.h5\n"
     ]
    },
    {
     "name": "stderr",
     "output_type": "stream",
     "text": [
      "c:\\Users\\Aleja\\anaconda3\\envs\\geospatial\\Lib\\site-packages\\wradlib\\vpr.py:103: DeprecationWarning: ``gridshape`` is not used in <class 'wradlib.vpr.CAPPI'>. It will be removed in wradlib version 2.0.\n",
      "  warnings.warn(\n"
     ]
    },
    {
     "name": "stdout",
     "output_type": "stream",
     "text": [
      "appended image Weather_3D\\20230115\\RAD_NL62_VOL_NA_202301150415.h5\n"
     ]
    },
    {
     "name": "stderr",
     "output_type": "stream",
     "text": [
      "c:\\Users\\Aleja\\anaconda3\\envs\\geospatial\\Lib\\site-packages\\wradlib\\vpr.py:103: DeprecationWarning: ``gridshape`` is not used in <class 'wradlib.vpr.CAPPI'>. It will be removed in wradlib version 2.0.\n",
      "  warnings.warn(\n"
     ]
    },
    {
     "name": "stdout",
     "output_type": "stream",
     "text": [
      "appended image Weather_3D\\20230115\\RAD_NL62_VOL_NA_202301150420.h5\n"
     ]
    },
    {
     "name": "stderr",
     "output_type": "stream",
     "text": [
      "c:\\Users\\Aleja\\anaconda3\\envs\\geospatial\\Lib\\site-packages\\wradlib\\vpr.py:103: DeprecationWarning: ``gridshape`` is not used in <class 'wradlib.vpr.CAPPI'>. It will be removed in wradlib version 2.0.\n",
      "  warnings.warn(\n"
     ]
    },
    {
     "name": "stdout",
     "output_type": "stream",
     "text": [
      "appended image Weather_3D\\20230115\\RAD_NL62_VOL_NA_202301150425.h5\n"
     ]
    },
    {
     "name": "stderr",
     "output_type": "stream",
     "text": [
      "c:\\Users\\Aleja\\anaconda3\\envs\\geospatial\\Lib\\site-packages\\wradlib\\vpr.py:103: DeprecationWarning: ``gridshape`` is not used in <class 'wradlib.vpr.CAPPI'>. It will be removed in wradlib version 2.0.\n",
      "  warnings.warn(\n"
     ]
    },
    {
     "name": "stdout",
     "output_type": "stream",
     "text": [
      "appended image Weather_3D\\20230115\\RAD_NL62_VOL_NA_202301150430.h5\n"
     ]
    },
    {
     "name": "stderr",
     "output_type": "stream",
     "text": [
      "c:\\Users\\Aleja\\anaconda3\\envs\\geospatial\\Lib\\site-packages\\wradlib\\vpr.py:103: DeprecationWarning: ``gridshape`` is not used in <class 'wradlib.vpr.CAPPI'>. It will be removed in wradlib version 2.0.\n",
      "  warnings.warn(\n"
     ]
    },
    {
     "name": "stdout",
     "output_type": "stream",
     "text": [
      "appended image Weather_3D\\20230115\\RAD_NL62_VOL_NA_202301150435.h5\n"
     ]
    },
    {
     "name": "stderr",
     "output_type": "stream",
     "text": [
      "c:\\Users\\Aleja\\anaconda3\\envs\\geospatial\\Lib\\site-packages\\wradlib\\vpr.py:103: DeprecationWarning: ``gridshape`` is not used in <class 'wradlib.vpr.CAPPI'>. It will be removed in wradlib version 2.0.\n",
      "  warnings.warn(\n"
     ]
    },
    {
     "name": "stdout",
     "output_type": "stream",
     "text": [
      "appended image Weather_3D\\20230115\\RAD_NL62_VOL_NA_202301150440.h5\n"
     ]
    },
    {
     "name": "stderr",
     "output_type": "stream",
     "text": [
      "c:\\Users\\Aleja\\anaconda3\\envs\\geospatial\\Lib\\site-packages\\wradlib\\vpr.py:103: DeprecationWarning: ``gridshape`` is not used in <class 'wradlib.vpr.CAPPI'>. It will be removed in wradlib version 2.0.\n",
      "  warnings.warn(\n"
     ]
    },
    {
     "name": "stdout",
     "output_type": "stream",
     "text": [
      "appended image Weather_3D\\20230115\\RAD_NL62_VOL_NA_202301150445.h5\n"
     ]
    },
    {
     "name": "stderr",
     "output_type": "stream",
     "text": [
      "c:\\Users\\Aleja\\anaconda3\\envs\\geospatial\\Lib\\site-packages\\wradlib\\vpr.py:103: DeprecationWarning: ``gridshape`` is not used in <class 'wradlib.vpr.CAPPI'>. It will be removed in wradlib version 2.0.\n",
      "  warnings.warn(\n"
     ]
    },
    {
     "name": "stdout",
     "output_type": "stream",
     "text": [
      "appended image Weather_3D\\20230115\\RAD_NL62_VOL_NA_202301150450.h5\n"
     ]
    },
    {
     "name": "stderr",
     "output_type": "stream",
     "text": [
      "c:\\Users\\Aleja\\anaconda3\\envs\\geospatial\\Lib\\site-packages\\wradlib\\vpr.py:103: DeprecationWarning: ``gridshape`` is not used in <class 'wradlib.vpr.CAPPI'>. It will be removed in wradlib version 2.0.\n",
      "  warnings.warn(\n"
     ]
    },
    {
     "name": "stdout",
     "output_type": "stream",
     "text": [
      "appended image Weather_3D\\20230115\\RAD_NL62_VOL_NA_202301150455.h5\n"
     ]
    },
    {
     "name": "stderr",
     "output_type": "stream",
     "text": [
      "c:\\Users\\Aleja\\anaconda3\\envs\\geospatial\\Lib\\site-packages\\wradlib\\vpr.py:103: DeprecationWarning: ``gridshape`` is not used in <class 'wradlib.vpr.CAPPI'>. It will be removed in wradlib version 2.0.\n",
      "  warnings.warn(\n"
     ]
    },
    {
     "name": "stdout",
     "output_type": "stream",
     "text": [
      "appended image Weather_3D\\20230115\\RAD_NL62_VOL_NA_202301150500.h5\n"
     ]
    },
    {
     "name": "stderr",
     "output_type": "stream",
     "text": [
      "c:\\Users\\Aleja\\anaconda3\\envs\\geospatial\\Lib\\site-packages\\wradlib\\vpr.py:103: DeprecationWarning: ``gridshape`` is not used in <class 'wradlib.vpr.CAPPI'>. It will be removed in wradlib version 2.0.\n",
      "  warnings.warn(\n"
     ]
    },
    {
     "name": "stdout",
     "output_type": "stream",
     "text": [
      "appended image Weather_3D\\20230115\\RAD_NL62_VOL_NA_202301150505.h5\n"
     ]
    },
    {
     "name": "stderr",
     "output_type": "stream",
     "text": [
      "c:\\Users\\Aleja\\anaconda3\\envs\\geospatial\\Lib\\site-packages\\wradlib\\vpr.py:103: DeprecationWarning: ``gridshape`` is not used in <class 'wradlib.vpr.CAPPI'>. It will be removed in wradlib version 2.0.\n",
      "  warnings.warn(\n"
     ]
    },
    {
     "name": "stdout",
     "output_type": "stream",
     "text": [
      "appended image Weather_3D\\20230115\\RAD_NL62_VOL_NA_202301150510.h5\n"
     ]
    },
    {
     "name": "stderr",
     "output_type": "stream",
     "text": [
      "c:\\Users\\Aleja\\anaconda3\\envs\\geospatial\\Lib\\site-packages\\wradlib\\vpr.py:103: DeprecationWarning: ``gridshape`` is not used in <class 'wradlib.vpr.CAPPI'>. It will be removed in wradlib version 2.0.\n",
      "  warnings.warn(\n"
     ]
    },
    {
     "name": "stdout",
     "output_type": "stream",
     "text": [
      "appended image Weather_3D\\20230115\\RAD_NL62_VOL_NA_202301150515.h5\n"
     ]
    },
    {
     "name": "stderr",
     "output_type": "stream",
     "text": [
      "c:\\Users\\Aleja\\anaconda3\\envs\\geospatial\\Lib\\site-packages\\wradlib\\vpr.py:103: DeprecationWarning: ``gridshape`` is not used in <class 'wradlib.vpr.CAPPI'>. It will be removed in wradlib version 2.0.\n",
      "  warnings.warn(\n"
     ]
    },
    {
     "name": "stdout",
     "output_type": "stream",
     "text": [
      "appended image Weather_3D\\20230115\\RAD_NL62_VOL_NA_202301150520.h5\n"
     ]
    },
    {
     "name": "stderr",
     "output_type": "stream",
     "text": [
      "c:\\Users\\Aleja\\anaconda3\\envs\\geospatial\\Lib\\site-packages\\wradlib\\vpr.py:103: DeprecationWarning: ``gridshape`` is not used in <class 'wradlib.vpr.CAPPI'>. It will be removed in wradlib version 2.0.\n",
      "  warnings.warn(\n"
     ]
    },
    {
     "name": "stdout",
     "output_type": "stream",
     "text": [
      "appended image Weather_3D\\20230115\\RAD_NL62_VOL_NA_202301150525.h5\n"
     ]
    },
    {
     "name": "stderr",
     "output_type": "stream",
     "text": [
      "c:\\Users\\Aleja\\anaconda3\\envs\\geospatial\\Lib\\site-packages\\wradlib\\vpr.py:103: DeprecationWarning: ``gridshape`` is not used in <class 'wradlib.vpr.CAPPI'>. It will be removed in wradlib version 2.0.\n",
      "  warnings.warn(\n"
     ]
    },
    {
     "name": "stdout",
     "output_type": "stream",
     "text": [
      "appended image Weather_3D\\20230115\\RAD_NL62_VOL_NA_202301150530.h5\n"
     ]
    },
    {
     "name": "stderr",
     "output_type": "stream",
     "text": [
      "c:\\Users\\Aleja\\anaconda3\\envs\\geospatial\\Lib\\site-packages\\wradlib\\vpr.py:103: DeprecationWarning: ``gridshape`` is not used in <class 'wradlib.vpr.CAPPI'>. It will be removed in wradlib version 2.0.\n",
      "  warnings.warn(\n"
     ]
    },
    {
     "name": "stdout",
     "output_type": "stream",
     "text": [
      "appended image Weather_3D\\20230115\\RAD_NL62_VOL_NA_202301150535.h5\n"
     ]
    },
    {
     "name": "stderr",
     "output_type": "stream",
     "text": [
      "c:\\Users\\Aleja\\anaconda3\\envs\\geospatial\\Lib\\site-packages\\wradlib\\vpr.py:103: DeprecationWarning: ``gridshape`` is not used in <class 'wradlib.vpr.CAPPI'>. It will be removed in wradlib version 2.0.\n",
      "  warnings.warn(\n"
     ]
    },
    {
     "name": "stdout",
     "output_type": "stream",
     "text": [
      "appended image Weather_3D\\20230115\\RAD_NL62_VOL_NA_202301150540.h5\n"
     ]
    },
    {
     "name": "stderr",
     "output_type": "stream",
     "text": [
      "c:\\Users\\Aleja\\anaconda3\\envs\\geospatial\\Lib\\site-packages\\wradlib\\vpr.py:103: DeprecationWarning: ``gridshape`` is not used in <class 'wradlib.vpr.CAPPI'>. It will be removed in wradlib version 2.0.\n",
      "  warnings.warn(\n"
     ]
    },
    {
     "name": "stdout",
     "output_type": "stream",
     "text": [
      "appended image Weather_3D\\20230115\\RAD_NL62_VOL_NA_202301150545.h5\n"
     ]
    },
    {
     "name": "stderr",
     "output_type": "stream",
     "text": [
      "c:\\Users\\Aleja\\anaconda3\\envs\\geospatial\\Lib\\site-packages\\wradlib\\vpr.py:103: DeprecationWarning: ``gridshape`` is not used in <class 'wradlib.vpr.CAPPI'>. It will be removed in wradlib version 2.0.\n",
      "  warnings.warn(\n"
     ]
    },
    {
     "name": "stdout",
     "output_type": "stream",
     "text": [
      "appended image Weather_3D\\20230115\\RAD_NL62_VOL_NA_202301150550.h5\n"
     ]
    },
    {
     "name": "stderr",
     "output_type": "stream",
     "text": [
      "c:\\Users\\Aleja\\anaconda3\\envs\\geospatial\\Lib\\site-packages\\wradlib\\vpr.py:103: DeprecationWarning: ``gridshape`` is not used in <class 'wradlib.vpr.CAPPI'>. It will be removed in wradlib version 2.0.\n",
      "  warnings.warn(\n"
     ]
    },
    {
     "name": "stdout",
     "output_type": "stream",
     "text": [
      "appended image Weather_3D\\20230115\\RAD_NL62_VOL_NA_202301150555.h5\n"
     ]
    },
    {
     "name": "stderr",
     "output_type": "stream",
     "text": [
      "c:\\Users\\Aleja\\anaconda3\\envs\\geospatial\\Lib\\site-packages\\wradlib\\vpr.py:103: DeprecationWarning: ``gridshape`` is not used in <class 'wradlib.vpr.CAPPI'>. It will be removed in wradlib version 2.0.\n",
      "  warnings.warn(\n"
     ]
    },
    {
     "name": "stdout",
     "output_type": "stream",
     "text": [
      "appended image Weather_3D\\20230115\\RAD_NL62_VOL_NA_202301150600.h5\n"
     ]
    },
    {
     "name": "stderr",
     "output_type": "stream",
     "text": [
      "c:\\Users\\Aleja\\anaconda3\\envs\\geospatial\\Lib\\site-packages\\wradlib\\vpr.py:103: DeprecationWarning: ``gridshape`` is not used in <class 'wradlib.vpr.CAPPI'>. It will be removed in wradlib version 2.0.\n",
      "  warnings.warn(\n"
     ]
    },
    {
     "name": "stdout",
     "output_type": "stream",
     "text": [
      "appended image Weather_3D\\20230115\\RAD_NL62_VOL_NA_202301150605.h5\n"
     ]
    },
    {
     "name": "stderr",
     "output_type": "stream",
     "text": [
      "c:\\Users\\Aleja\\anaconda3\\envs\\geospatial\\Lib\\site-packages\\wradlib\\vpr.py:103: DeprecationWarning: ``gridshape`` is not used in <class 'wradlib.vpr.CAPPI'>. It will be removed in wradlib version 2.0.\n",
      "  warnings.warn(\n"
     ]
    },
    {
     "name": "stdout",
     "output_type": "stream",
     "text": [
      "appended image Weather_3D\\20230115\\RAD_NL62_VOL_NA_202301150610.h5\n"
     ]
    },
    {
     "name": "stderr",
     "output_type": "stream",
     "text": [
      "c:\\Users\\Aleja\\anaconda3\\envs\\geospatial\\Lib\\site-packages\\wradlib\\vpr.py:103: DeprecationWarning: ``gridshape`` is not used in <class 'wradlib.vpr.CAPPI'>. It will be removed in wradlib version 2.0.\n",
      "  warnings.warn(\n"
     ]
    },
    {
     "name": "stdout",
     "output_type": "stream",
     "text": [
      "appended image Weather_3D\\20230115\\RAD_NL62_VOL_NA_202301150615.h5\n"
     ]
    },
    {
     "name": "stderr",
     "output_type": "stream",
     "text": [
      "c:\\Users\\Aleja\\anaconda3\\envs\\geospatial\\Lib\\site-packages\\wradlib\\vpr.py:103: DeprecationWarning: ``gridshape`` is not used in <class 'wradlib.vpr.CAPPI'>. It will be removed in wradlib version 2.0.\n",
      "  warnings.warn(\n"
     ]
    },
    {
     "name": "stdout",
     "output_type": "stream",
     "text": [
      "appended image Weather_3D\\20230115\\RAD_NL62_VOL_NA_202301150620.h5\n"
     ]
    },
    {
     "name": "stderr",
     "output_type": "stream",
     "text": [
      "c:\\Users\\Aleja\\anaconda3\\envs\\geospatial\\Lib\\site-packages\\wradlib\\vpr.py:103: DeprecationWarning: ``gridshape`` is not used in <class 'wradlib.vpr.CAPPI'>. It will be removed in wradlib version 2.0.\n",
      "  warnings.warn(\n"
     ]
    },
    {
     "name": "stdout",
     "output_type": "stream",
     "text": [
      "appended image Weather_3D\\20230115\\RAD_NL62_VOL_NA_202301150625.h5\n"
     ]
    },
    {
     "name": "stderr",
     "output_type": "stream",
     "text": [
      "c:\\Users\\Aleja\\anaconda3\\envs\\geospatial\\Lib\\site-packages\\wradlib\\vpr.py:103: DeprecationWarning: ``gridshape`` is not used in <class 'wradlib.vpr.CAPPI'>. It will be removed in wradlib version 2.0.\n",
      "  warnings.warn(\n"
     ]
    },
    {
     "name": "stdout",
     "output_type": "stream",
     "text": [
      "appended image Weather_3D\\20230115\\RAD_NL62_VOL_NA_202301150630.h5\n"
     ]
    },
    {
     "name": "stderr",
     "output_type": "stream",
     "text": [
      "c:\\Users\\Aleja\\anaconda3\\envs\\geospatial\\Lib\\site-packages\\wradlib\\vpr.py:103: DeprecationWarning: ``gridshape`` is not used in <class 'wradlib.vpr.CAPPI'>. It will be removed in wradlib version 2.0.\n",
      "  warnings.warn(\n"
     ]
    },
    {
     "name": "stdout",
     "output_type": "stream",
     "text": [
      "appended image Weather_3D\\20230115\\RAD_NL62_VOL_NA_202301150635.h5\n"
     ]
    },
    {
     "name": "stderr",
     "output_type": "stream",
     "text": [
      "c:\\Users\\Aleja\\anaconda3\\envs\\geospatial\\Lib\\site-packages\\wradlib\\vpr.py:103: DeprecationWarning: ``gridshape`` is not used in <class 'wradlib.vpr.CAPPI'>. It will be removed in wradlib version 2.0.\n",
      "  warnings.warn(\n"
     ]
    },
    {
     "name": "stdout",
     "output_type": "stream",
     "text": [
      "appended image Weather_3D\\20230115\\RAD_NL62_VOL_NA_202301150640.h5\n"
     ]
    },
    {
     "name": "stderr",
     "output_type": "stream",
     "text": [
      "c:\\Users\\Aleja\\anaconda3\\envs\\geospatial\\Lib\\site-packages\\wradlib\\vpr.py:103: DeprecationWarning: ``gridshape`` is not used in <class 'wradlib.vpr.CAPPI'>. It will be removed in wradlib version 2.0.\n",
      "  warnings.warn(\n"
     ]
    },
    {
     "name": "stdout",
     "output_type": "stream",
     "text": [
      "appended image Weather_3D\\20230115\\RAD_NL62_VOL_NA_202301150645.h5\n"
     ]
    },
    {
     "name": "stderr",
     "output_type": "stream",
     "text": [
      "c:\\Users\\Aleja\\anaconda3\\envs\\geospatial\\Lib\\site-packages\\wradlib\\vpr.py:103: DeprecationWarning: ``gridshape`` is not used in <class 'wradlib.vpr.CAPPI'>. It will be removed in wradlib version 2.0.\n",
      "  warnings.warn(\n"
     ]
    },
    {
     "name": "stdout",
     "output_type": "stream",
     "text": [
      "appended image Weather_3D\\20230115\\RAD_NL62_VOL_NA_202301150650.h5\n"
     ]
    },
    {
     "name": "stderr",
     "output_type": "stream",
     "text": [
      "c:\\Users\\Aleja\\anaconda3\\envs\\geospatial\\Lib\\site-packages\\wradlib\\vpr.py:103: DeprecationWarning: ``gridshape`` is not used in <class 'wradlib.vpr.CAPPI'>. It will be removed in wradlib version 2.0.\n",
      "  warnings.warn(\n"
     ]
    },
    {
     "name": "stdout",
     "output_type": "stream",
     "text": [
      "appended image Weather_3D\\20230115\\RAD_NL62_VOL_NA_202301150655.h5\n"
     ]
    },
    {
     "name": "stderr",
     "output_type": "stream",
     "text": [
      "c:\\Users\\Aleja\\anaconda3\\envs\\geospatial\\Lib\\site-packages\\wradlib\\vpr.py:103: DeprecationWarning: ``gridshape`` is not used in <class 'wradlib.vpr.CAPPI'>. It will be removed in wradlib version 2.0.\n",
      "  warnings.warn(\n"
     ]
    },
    {
     "name": "stdout",
     "output_type": "stream",
     "text": [
      "appended image Weather_3D\\20230115\\RAD_NL62_VOL_NA_202301150700.h5\n"
     ]
    },
    {
     "name": "stderr",
     "output_type": "stream",
     "text": [
      "c:\\Users\\Aleja\\anaconda3\\envs\\geospatial\\Lib\\site-packages\\wradlib\\vpr.py:103: DeprecationWarning: ``gridshape`` is not used in <class 'wradlib.vpr.CAPPI'>. It will be removed in wradlib version 2.0.\n",
      "  warnings.warn(\n"
     ]
    },
    {
     "name": "stdout",
     "output_type": "stream",
     "text": [
      "appended image Weather_3D\\20230115\\RAD_NL62_VOL_NA_202301150705.h5\n"
     ]
    },
    {
     "name": "stderr",
     "output_type": "stream",
     "text": [
      "c:\\Users\\Aleja\\anaconda3\\envs\\geospatial\\Lib\\site-packages\\wradlib\\vpr.py:103: DeprecationWarning: ``gridshape`` is not used in <class 'wradlib.vpr.CAPPI'>. It will be removed in wradlib version 2.0.\n",
      "  warnings.warn(\n"
     ]
    },
    {
     "name": "stdout",
     "output_type": "stream",
     "text": [
      "appended image Weather_3D\\20230115\\RAD_NL62_VOL_NA_202301150710.h5\n"
     ]
    },
    {
     "name": "stderr",
     "output_type": "stream",
     "text": [
      "c:\\Users\\Aleja\\anaconda3\\envs\\geospatial\\Lib\\site-packages\\wradlib\\vpr.py:103: DeprecationWarning: ``gridshape`` is not used in <class 'wradlib.vpr.CAPPI'>. It will be removed in wradlib version 2.0.\n",
      "  warnings.warn(\n"
     ]
    },
    {
     "name": "stdout",
     "output_type": "stream",
     "text": [
      "appended image Weather_3D\\20230115\\RAD_NL62_VOL_NA_202301150715.h5\n"
     ]
    },
    {
     "name": "stderr",
     "output_type": "stream",
     "text": [
      "c:\\Users\\Aleja\\anaconda3\\envs\\geospatial\\Lib\\site-packages\\wradlib\\vpr.py:103: DeprecationWarning: ``gridshape`` is not used in <class 'wradlib.vpr.CAPPI'>. It will be removed in wradlib version 2.0.\n",
      "  warnings.warn(\n"
     ]
    },
    {
     "name": "stdout",
     "output_type": "stream",
     "text": [
      "appended image Weather_3D\\20230115\\RAD_NL62_VOL_NA_202301150720.h5\n"
     ]
    },
    {
     "name": "stderr",
     "output_type": "stream",
     "text": [
      "c:\\Users\\Aleja\\anaconda3\\envs\\geospatial\\Lib\\site-packages\\wradlib\\vpr.py:103: DeprecationWarning: ``gridshape`` is not used in <class 'wradlib.vpr.CAPPI'>. It will be removed in wradlib version 2.0.\n",
      "  warnings.warn(\n"
     ]
    },
    {
     "name": "stdout",
     "output_type": "stream",
     "text": [
      "appended image Weather_3D\\20230115\\RAD_NL62_VOL_NA_202301150725.h5\n"
     ]
    },
    {
     "name": "stderr",
     "output_type": "stream",
     "text": [
      "c:\\Users\\Aleja\\anaconda3\\envs\\geospatial\\Lib\\site-packages\\wradlib\\vpr.py:103: DeprecationWarning: ``gridshape`` is not used in <class 'wradlib.vpr.CAPPI'>. It will be removed in wradlib version 2.0.\n",
      "  warnings.warn(\n"
     ]
    },
    {
     "name": "stdout",
     "output_type": "stream",
     "text": [
      "appended image Weather_3D\\20230115\\RAD_NL62_VOL_NA_202301150730.h5\n"
     ]
    },
    {
     "name": "stderr",
     "output_type": "stream",
     "text": [
      "c:\\Users\\Aleja\\anaconda3\\envs\\geospatial\\Lib\\site-packages\\wradlib\\vpr.py:103: DeprecationWarning: ``gridshape`` is not used in <class 'wradlib.vpr.CAPPI'>. It will be removed in wradlib version 2.0.\n",
      "  warnings.warn(\n"
     ]
    },
    {
     "name": "stdout",
     "output_type": "stream",
     "text": [
      "appended image Weather_3D\\20230115\\RAD_NL62_VOL_NA_202301150735.h5\n"
     ]
    },
    {
     "name": "stderr",
     "output_type": "stream",
     "text": [
      "c:\\Users\\Aleja\\anaconda3\\envs\\geospatial\\Lib\\site-packages\\wradlib\\vpr.py:103: DeprecationWarning: ``gridshape`` is not used in <class 'wradlib.vpr.CAPPI'>. It will be removed in wradlib version 2.0.\n",
      "  warnings.warn(\n"
     ]
    },
    {
     "name": "stdout",
     "output_type": "stream",
     "text": [
      "appended image Weather_3D\\20230115\\RAD_NL62_VOL_NA_202301150740.h5\n"
     ]
    },
    {
     "name": "stderr",
     "output_type": "stream",
     "text": [
      "c:\\Users\\Aleja\\anaconda3\\envs\\geospatial\\Lib\\site-packages\\wradlib\\vpr.py:103: DeprecationWarning: ``gridshape`` is not used in <class 'wradlib.vpr.CAPPI'>. It will be removed in wradlib version 2.0.\n",
      "  warnings.warn(\n"
     ]
    },
    {
     "name": "stdout",
     "output_type": "stream",
     "text": [
      "appended image Weather_3D\\20230115\\RAD_NL62_VOL_NA_202301150745.h5\n"
     ]
    },
    {
     "name": "stderr",
     "output_type": "stream",
     "text": [
      "c:\\Users\\Aleja\\anaconda3\\envs\\geospatial\\Lib\\site-packages\\wradlib\\vpr.py:103: DeprecationWarning: ``gridshape`` is not used in <class 'wradlib.vpr.CAPPI'>. It will be removed in wradlib version 2.0.\n",
      "  warnings.warn(\n"
     ]
    },
    {
     "name": "stdout",
     "output_type": "stream",
     "text": [
      "appended image Weather_3D\\20230115\\RAD_NL62_VOL_NA_202301150750.h5\n"
     ]
    },
    {
     "name": "stderr",
     "output_type": "stream",
     "text": [
      "c:\\Users\\Aleja\\anaconda3\\envs\\geospatial\\Lib\\site-packages\\wradlib\\vpr.py:103: DeprecationWarning: ``gridshape`` is not used in <class 'wradlib.vpr.CAPPI'>. It will be removed in wradlib version 2.0.\n",
      "  warnings.warn(\n"
     ]
    },
    {
     "name": "stdout",
     "output_type": "stream",
     "text": [
      "appended image Weather_3D\\20230115\\RAD_NL62_VOL_NA_202301150755.h5\n"
     ]
    },
    {
     "name": "stderr",
     "output_type": "stream",
     "text": [
      "c:\\Users\\Aleja\\anaconda3\\envs\\geospatial\\Lib\\site-packages\\wradlib\\vpr.py:103: DeprecationWarning: ``gridshape`` is not used in <class 'wradlib.vpr.CAPPI'>. It will be removed in wradlib version 2.0.\n",
      "  warnings.warn(\n"
     ]
    },
    {
     "name": "stdout",
     "output_type": "stream",
     "text": [
      "appended image Weather_3D\\20230115\\RAD_NL62_VOL_NA_202301150800.h5\n"
     ]
    },
    {
     "name": "stderr",
     "output_type": "stream",
     "text": [
      "c:\\Users\\Aleja\\anaconda3\\envs\\geospatial\\Lib\\site-packages\\wradlib\\vpr.py:103: DeprecationWarning: ``gridshape`` is not used in <class 'wradlib.vpr.CAPPI'>. It will be removed in wradlib version 2.0.\n",
      "  warnings.warn(\n"
     ]
    },
    {
     "name": "stdout",
     "output_type": "stream",
     "text": [
      "appended image Weather_3D\\20230115\\RAD_NL62_VOL_NA_202301150805.h5\n"
     ]
    },
    {
     "name": "stderr",
     "output_type": "stream",
     "text": [
      "c:\\Users\\Aleja\\anaconda3\\envs\\geospatial\\Lib\\site-packages\\wradlib\\vpr.py:103: DeprecationWarning: ``gridshape`` is not used in <class 'wradlib.vpr.CAPPI'>. It will be removed in wradlib version 2.0.\n",
      "  warnings.warn(\n"
     ]
    },
    {
     "name": "stdout",
     "output_type": "stream",
     "text": [
      "appended image Weather_3D\\20230115\\RAD_NL62_VOL_NA_202301150810.h5\n"
     ]
    },
    {
     "name": "stderr",
     "output_type": "stream",
     "text": [
      "c:\\Users\\Aleja\\anaconda3\\envs\\geospatial\\Lib\\site-packages\\wradlib\\vpr.py:103: DeprecationWarning: ``gridshape`` is not used in <class 'wradlib.vpr.CAPPI'>. It will be removed in wradlib version 2.0.\n",
      "  warnings.warn(\n"
     ]
    },
    {
     "name": "stdout",
     "output_type": "stream",
     "text": [
      "appended image Weather_3D\\20230115\\RAD_NL62_VOL_NA_202301150815.h5\n"
     ]
    },
    {
     "name": "stderr",
     "output_type": "stream",
     "text": [
      "c:\\Users\\Aleja\\anaconda3\\envs\\geospatial\\Lib\\site-packages\\wradlib\\vpr.py:103: DeprecationWarning: ``gridshape`` is not used in <class 'wradlib.vpr.CAPPI'>. It will be removed in wradlib version 2.0.\n",
      "  warnings.warn(\n"
     ]
    },
    {
     "name": "stdout",
     "output_type": "stream",
     "text": [
      "appended image Weather_3D\\20230115\\RAD_NL62_VOL_NA_202301150820.h5\n"
     ]
    },
    {
     "name": "stderr",
     "output_type": "stream",
     "text": [
      "c:\\Users\\Aleja\\anaconda3\\envs\\geospatial\\Lib\\site-packages\\wradlib\\vpr.py:103: DeprecationWarning: ``gridshape`` is not used in <class 'wradlib.vpr.CAPPI'>. It will be removed in wradlib version 2.0.\n",
      "  warnings.warn(\n"
     ]
    },
    {
     "name": "stdout",
     "output_type": "stream",
     "text": [
      "appended image Weather_3D\\20230115\\RAD_NL62_VOL_NA_202301150825.h5\n"
     ]
    },
    {
     "name": "stderr",
     "output_type": "stream",
     "text": [
      "c:\\Users\\Aleja\\anaconda3\\envs\\geospatial\\Lib\\site-packages\\wradlib\\vpr.py:103: DeprecationWarning: ``gridshape`` is not used in <class 'wradlib.vpr.CAPPI'>. It will be removed in wradlib version 2.0.\n",
      "  warnings.warn(\n"
     ]
    },
    {
     "name": "stdout",
     "output_type": "stream",
     "text": [
      "appended image Weather_3D\\20230115\\RAD_NL62_VOL_NA_202301150830.h5\n"
     ]
    },
    {
     "name": "stderr",
     "output_type": "stream",
     "text": [
      "c:\\Users\\Aleja\\anaconda3\\envs\\geospatial\\Lib\\site-packages\\wradlib\\vpr.py:103: DeprecationWarning: ``gridshape`` is not used in <class 'wradlib.vpr.CAPPI'>. It will be removed in wradlib version 2.0.\n",
      "  warnings.warn(\n"
     ]
    },
    {
     "name": "stdout",
     "output_type": "stream",
     "text": [
      "appended image Weather_3D\\20230115\\RAD_NL62_VOL_NA_202301150835.h5\n"
     ]
    },
    {
     "name": "stderr",
     "output_type": "stream",
     "text": [
      "c:\\Users\\Aleja\\anaconda3\\envs\\geospatial\\Lib\\site-packages\\wradlib\\vpr.py:103: DeprecationWarning: ``gridshape`` is not used in <class 'wradlib.vpr.CAPPI'>. It will be removed in wradlib version 2.0.\n",
      "  warnings.warn(\n"
     ]
    },
    {
     "name": "stdout",
     "output_type": "stream",
     "text": [
      "appended image Weather_3D\\20230115\\RAD_NL62_VOL_NA_202301150840.h5\n"
     ]
    },
    {
     "name": "stderr",
     "output_type": "stream",
     "text": [
      "c:\\Users\\Aleja\\anaconda3\\envs\\geospatial\\Lib\\site-packages\\wradlib\\vpr.py:103: DeprecationWarning: ``gridshape`` is not used in <class 'wradlib.vpr.CAPPI'>. It will be removed in wradlib version 2.0.\n",
      "  warnings.warn(\n"
     ]
    },
    {
     "name": "stdout",
     "output_type": "stream",
     "text": [
      "appended image Weather_3D\\20230115\\RAD_NL62_VOL_NA_202301150845.h5\n"
     ]
    },
    {
     "name": "stderr",
     "output_type": "stream",
     "text": [
      "c:\\Users\\Aleja\\anaconda3\\envs\\geospatial\\Lib\\site-packages\\wradlib\\vpr.py:103: DeprecationWarning: ``gridshape`` is not used in <class 'wradlib.vpr.CAPPI'>. It will be removed in wradlib version 2.0.\n",
      "  warnings.warn(\n"
     ]
    },
    {
     "name": "stdout",
     "output_type": "stream",
     "text": [
      "appended image Weather_3D\\20230115\\RAD_NL62_VOL_NA_202301150850.h5\n"
     ]
    },
    {
     "name": "stderr",
     "output_type": "stream",
     "text": [
      "c:\\Users\\Aleja\\anaconda3\\envs\\geospatial\\Lib\\site-packages\\wradlib\\vpr.py:103: DeprecationWarning: ``gridshape`` is not used in <class 'wradlib.vpr.CAPPI'>. It will be removed in wradlib version 2.0.\n",
      "  warnings.warn(\n"
     ]
    },
    {
     "name": "stdout",
     "output_type": "stream",
     "text": [
      "appended image Weather_3D\\20230115\\RAD_NL62_VOL_NA_202301150855.h5\n"
     ]
    },
    {
     "name": "stderr",
     "output_type": "stream",
     "text": [
      "c:\\Users\\Aleja\\anaconda3\\envs\\geospatial\\Lib\\site-packages\\wradlib\\vpr.py:103: DeprecationWarning: ``gridshape`` is not used in <class 'wradlib.vpr.CAPPI'>. It will be removed in wradlib version 2.0.\n",
      "  warnings.warn(\n"
     ]
    },
    {
     "name": "stdout",
     "output_type": "stream",
     "text": [
      "appended image Weather_3D\\20230115\\RAD_NL62_VOL_NA_202301150900.h5\n"
     ]
    },
    {
     "name": "stderr",
     "output_type": "stream",
     "text": [
      "c:\\Users\\Aleja\\anaconda3\\envs\\geospatial\\Lib\\site-packages\\wradlib\\vpr.py:103: DeprecationWarning: ``gridshape`` is not used in <class 'wradlib.vpr.CAPPI'>. It will be removed in wradlib version 2.0.\n",
      "  warnings.warn(\n"
     ]
    },
    {
     "name": "stdout",
     "output_type": "stream",
     "text": [
      "appended image Weather_3D\\20230115\\RAD_NL62_VOL_NA_202301150905.h5\n"
     ]
    },
    {
     "name": "stderr",
     "output_type": "stream",
     "text": [
      "c:\\Users\\Aleja\\anaconda3\\envs\\geospatial\\Lib\\site-packages\\wradlib\\vpr.py:103: DeprecationWarning: ``gridshape`` is not used in <class 'wradlib.vpr.CAPPI'>. It will be removed in wradlib version 2.0.\n",
      "  warnings.warn(\n"
     ]
    },
    {
     "name": "stdout",
     "output_type": "stream",
     "text": [
      "appended image Weather_3D\\20230115\\RAD_NL62_VOL_NA_202301150910.h5\n"
     ]
    },
    {
     "name": "stderr",
     "output_type": "stream",
     "text": [
      "c:\\Users\\Aleja\\anaconda3\\envs\\geospatial\\Lib\\site-packages\\wradlib\\vpr.py:103: DeprecationWarning: ``gridshape`` is not used in <class 'wradlib.vpr.CAPPI'>. It will be removed in wradlib version 2.0.\n",
      "  warnings.warn(\n"
     ]
    },
    {
     "name": "stdout",
     "output_type": "stream",
     "text": [
      "appended image Weather_3D\\20230115\\RAD_NL62_VOL_NA_202301150915.h5\n"
     ]
    },
    {
     "name": "stderr",
     "output_type": "stream",
     "text": [
      "c:\\Users\\Aleja\\anaconda3\\envs\\geospatial\\Lib\\site-packages\\wradlib\\vpr.py:103: DeprecationWarning: ``gridshape`` is not used in <class 'wradlib.vpr.CAPPI'>. It will be removed in wradlib version 2.0.\n",
      "  warnings.warn(\n"
     ]
    },
    {
     "name": "stdout",
     "output_type": "stream",
     "text": [
      "appended image Weather_3D\\20230115\\RAD_NL62_VOL_NA_202301150920.h5\n"
     ]
    },
    {
     "name": "stderr",
     "output_type": "stream",
     "text": [
      "c:\\Users\\Aleja\\anaconda3\\envs\\geospatial\\Lib\\site-packages\\wradlib\\vpr.py:103: DeprecationWarning: ``gridshape`` is not used in <class 'wradlib.vpr.CAPPI'>. It will be removed in wradlib version 2.0.\n",
      "  warnings.warn(\n"
     ]
    },
    {
     "name": "stdout",
     "output_type": "stream",
     "text": [
      "appended image Weather_3D\\20230115\\RAD_NL62_VOL_NA_202301150925.h5\n"
     ]
    },
    {
     "name": "stderr",
     "output_type": "stream",
     "text": [
      "c:\\Users\\Aleja\\anaconda3\\envs\\geospatial\\Lib\\site-packages\\wradlib\\vpr.py:103: DeprecationWarning: ``gridshape`` is not used in <class 'wradlib.vpr.CAPPI'>. It will be removed in wradlib version 2.0.\n",
      "  warnings.warn(\n"
     ]
    },
    {
     "name": "stdout",
     "output_type": "stream",
     "text": [
      "appended image Weather_3D\\20230115\\RAD_NL62_VOL_NA_202301150930.h5\n"
     ]
    },
    {
     "name": "stderr",
     "output_type": "stream",
     "text": [
      "c:\\Users\\Aleja\\anaconda3\\envs\\geospatial\\Lib\\site-packages\\wradlib\\vpr.py:103: DeprecationWarning: ``gridshape`` is not used in <class 'wradlib.vpr.CAPPI'>. It will be removed in wradlib version 2.0.\n",
      "  warnings.warn(\n"
     ]
    },
    {
     "name": "stdout",
     "output_type": "stream",
     "text": [
      "appended image Weather_3D\\20230115\\RAD_NL62_VOL_NA_202301150935.h5\n"
     ]
    },
    {
     "name": "stderr",
     "output_type": "stream",
     "text": [
      "c:\\Users\\Aleja\\anaconda3\\envs\\geospatial\\Lib\\site-packages\\wradlib\\vpr.py:103: DeprecationWarning: ``gridshape`` is not used in <class 'wradlib.vpr.CAPPI'>. It will be removed in wradlib version 2.0.\n",
      "  warnings.warn(\n"
     ]
    },
    {
     "name": "stdout",
     "output_type": "stream",
     "text": [
      "appended image Weather_3D\\20230115\\RAD_NL62_VOL_NA_202301150940.h5\n"
     ]
    },
    {
     "name": "stderr",
     "output_type": "stream",
     "text": [
      "c:\\Users\\Aleja\\anaconda3\\envs\\geospatial\\Lib\\site-packages\\wradlib\\vpr.py:103: DeprecationWarning: ``gridshape`` is not used in <class 'wradlib.vpr.CAPPI'>. It will be removed in wradlib version 2.0.\n",
      "  warnings.warn(\n"
     ]
    },
    {
     "name": "stdout",
     "output_type": "stream",
     "text": [
      "appended image Weather_3D\\20230115\\RAD_NL62_VOL_NA_202301150945.h5\n"
     ]
    },
    {
     "name": "stderr",
     "output_type": "stream",
     "text": [
      "c:\\Users\\Aleja\\anaconda3\\envs\\geospatial\\Lib\\site-packages\\wradlib\\vpr.py:103: DeprecationWarning: ``gridshape`` is not used in <class 'wradlib.vpr.CAPPI'>. It will be removed in wradlib version 2.0.\n",
      "  warnings.warn(\n"
     ]
    },
    {
     "name": "stdout",
     "output_type": "stream",
     "text": [
      "appended image Weather_3D\\20230115\\RAD_NL62_VOL_NA_202301150950.h5\n"
     ]
    },
    {
     "name": "stderr",
     "output_type": "stream",
     "text": [
      "c:\\Users\\Aleja\\anaconda3\\envs\\geospatial\\Lib\\site-packages\\wradlib\\vpr.py:103: DeprecationWarning: ``gridshape`` is not used in <class 'wradlib.vpr.CAPPI'>. It will be removed in wradlib version 2.0.\n",
      "  warnings.warn(\n"
     ]
    },
    {
     "name": "stdout",
     "output_type": "stream",
     "text": [
      "appended image Weather_3D\\20230115\\RAD_NL62_VOL_NA_202301150955.h5\n"
     ]
    },
    {
     "name": "stderr",
     "output_type": "stream",
     "text": [
      "c:\\Users\\Aleja\\anaconda3\\envs\\geospatial\\Lib\\site-packages\\wradlib\\vpr.py:103: DeprecationWarning: ``gridshape`` is not used in <class 'wradlib.vpr.CAPPI'>. It will be removed in wradlib version 2.0.\n",
      "  warnings.warn(\n"
     ]
    },
    {
     "name": "stdout",
     "output_type": "stream",
     "text": [
      "appended image Weather_3D\\20230115\\RAD_NL62_VOL_NA_202301151000.h5\n"
     ]
    },
    {
     "name": "stderr",
     "output_type": "stream",
     "text": [
      "c:\\Users\\Aleja\\anaconda3\\envs\\geospatial\\Lib\\site-packages\\wradlib\\vpr.py:103: DeprecationWarning: ``gridshape`` is not used in <class 'wradlib.vpr.CAPPI'>. It will be removed in wradlib version 2.0.\n",
      "  warnings.warn(\n"
     ]
    },
    {
     "name": "stdout",
     "output_type": "stream",
     "text": [
      "appended image Weather_3D\\20230115\\RAD_NL62_VOL_NA_202301151005.h5\n"
     ]
    },
    {
     "name": "stderr",
     "output_type": "stream",
     "text": [
      "c:\\Users\\Aleja\\anaconda3\\envs\\geospatial\\Lib\\site-packages\\wradlib\\vpr.py:103: DeprecationWarning: ``gridshape`` is not used in <class 'wradlib.vpr.CAPPI'>. It will be removed in wradlib version 2.0.\n",
      "  warnings.warn(\n"
     ]
    },
    {
     "name": "stdout",
     "output_type": "stream",
     "text": [
      "appended image Weather_3D\\20230115\\RAD_NL62_VOL_NA_202301151010.h5\n"
     ]
    },
    {
     "name": "stderr",
     "output_type": "stream",
     "text": [
      "c:\\Users\\Aleja\\anaconda3\\envs\\geospatial\\Lib\\site-packages\\wradlib\\vpr.py:103: DeprecationWarning: ``gridshape`` is not used in <class 'wradlib.vpr.CAPPI'>. It will be removed in wradlib version 2.0.\n",
      "  warnings.warn(\n"
     ]
    },
    {
     "name": "stdout",
     "output_type": "stream",
     "text": [
      "appended image Weather_3D\\20230115\\RAD_NL62_VOL_NA_202301151015.h5\n"
     ]
    },
    {
     "name": "stderr",
     "output_type": "stream",
     "text": [
      "c:\\Users\\Aleja\\anaconda3\\envs\\geospatial\\Lib\\site-packages\\wradlib\\vpr.py:103: DeprecationWarning: ``gridshape`` is not used in <class 'wradlib.vpr.CAPPI'>. It will be removed in wradlib version 2.0.\n",
      "  warnings.warn(\n"
     ]
    },
    {
     "name": "stdout",
     "output_type": "stream",
     "text": [
      "appended image Weather_3D\\20230115\\RAD_NL62_VOL_NA_202301151020.h5\n"
     ]
    },
    {
     "name": "stderr",
     "output_type": "stream",
     "text": [
      "c:\\Users\\Aleja\\anaconda3\\envs\\geospatial\\Lib\\site-packages\\wradlib\\vpr.py:103: DeprecationWarning: ``gridshape`` is not used in <class 'wradlib.vpr.CAPPI'>. It will be removed in wradlib version 2.0.\n",
      "  warnings.warn(\n"
     ]
    },
    {
     "name": "stdout",
     "output_type": "stream",
     "text": [
      "appended image Weather_3D\\20230115\\RAD_NL62_VOL_NA_202301151025.h5\n"
     ]
    },
    {
     "name": "stderr",
     "output_type": "stream",
     "text": [
      "c:\\Users\\Aleja\\anaconda3\\envs\\geospatial\\Lib\\site-packages\\wradlib\\vpr.py:103: DeprecationWarning: ``gridshape`` is not used in <class 'wradlib.vpr.CAPPI'>. It will be removed in wradlib version 2.0.\n",
      "  warnings.warn(\n"
     ]
    },
    {
     "name": "stdout",
     "output_type": "stream",
     "text": [
      "appended image Weather_3D\\20230115\\RAD_NL62_VOL_NA_202301151030.h5\n"
     ]
    },
    {
     "name": "stderr",
     "output_type": "stream",
     "text": [
      "c:\\Users\\Aleja\\anaconda3\\envs\\geospatial\\Lib\\site-packages\\wradlib\\vpr.py:103: DeprecationWarning: ``gridshape`` is not used in <class 'wradlib.vpr.CAPPI'>. It will be removed in wradlib version 2.0.\n",
      "  warnings.warn(\n"
     ]
    },
    {
     "name": "stdout",
     "output_type": "stream",
     "text": [
      "appended image Weather_3D\\20230115\\RAD_NL62_VOL_NA_202301151035.h5\n"
     ]
    },
    {
     "name": "stderr",
     "output_type": "stream",
     "text": [
      "c:\\Users\\Aleja\\anaconda3\\envs\\geospatial\\Lib\\site-packages\\wradlib\\vpr.py:103: DeprecationWarning: ``gridshape`` is not used in <class 'wradlib.vpr.CAPPI'>. It will be removed in wradlib version 2.0.\n",
      "  warnings.warn(\n"
     ]
    },
    {
     "name": "stdout",
     "output_type": "stream",
     "text": [
      "appended image Weather_3D\\20230115\\RAD_NL62_VOL_NA_202301151040.h5\n"
     ]
    },
    {
     "name": "stderr",
     "output_type": "stream",
     "text": [
      "c:\\Users\\Aleja\\anaconda3\\envs\\geospatial\\Lib\\site-packages\\wradlib\\vpr.py:103: DeprecationWarning: ``gridshape`` is not used in <class 'wradlib.vpr.CAPPI'>. It will be removed in wradlib version 2.0.\n",
      "  warnings.warn(\n"
     ]
    },
    {
     "name": "stdout",
     "output_type": "stream",
     "text": [
      "appended image Weather_3D\\20230115\\RAD_NL62_VOL_NA_202301151045.h5\n"
     ]
    },
    {
     "name": "stderr",
     "output_type": "stream",
     "text": [
      "c:\\Users\\Aleja\\anaconda3\\envs\\geospatial\\Lib\\site-packages\\wradlib\\vpr.py:103: DeprecationWarning: ``gridshape`` is not used in <class 'wradlib.vpr.CAPPI'>. It will be removed in wradlib version 2.0.\n",
      "  warnings.warn(\n"
     ]
    },
    {
     "name": "stdout",
     "output_type": "stream",
     "text": [
      "appended image Weather_3D\\20230115\\RAD_NL62_VOL_NA_202301151050.h5\n"
     ]
    },
    {
     "name": "stderr",
     "output_type": "stream",
     "text": [
      "c:\\Users\\Aleja\\anaconda3\\envs\\geospatial\\Lib\\site-packages\\wradlib\\vpr.py:103: DeprecationWarning: ``gridshape`` is not used in <class 'wradlib.vpr.CAPPI'>. It will be removed in wradlib version 2.0.\n",
      "  warnings.warn(\n"
     ]
    },
    {
     "name": "stdout",
     "output_type": "stream",
     "text": [
      "appended image Weather_3D\\20230115\\RAD_NL62_VOL_NA_202301151055.h5\n"
     ]
    },
    {
     "name": "stderr",
     "output_type": "stream",
     "text": [
      "c:\\Users\\Aleja\\anaconda3\\envs\\geospatial\\Lib\\site-packages\\wradlib\\vpr.py:103: DeprecationWarning: ``gridshape`` is not used in <class 'wradlib.vpr.CAPPI'>. It will be removed in wradlib version 2.0.\n",
      "  warnings.warn(\n"
     ]
    },
    {
     "name": "stdout",
     "output_type": "stream",
     "text": [
      "appended image Weather_3D\\20230115\\RAD_NL62_VOL_NA_202301151100.h5\n"
     ]
    },
    {
     "name": "stderr",
     "output_type": "stream",
     "text": [
      "c:\\Users\\Aleja\\anaconda3\\envs\\geospatial\\Lib\\site-packages\\wradlib\\vpr.py:103: DeprecationWarning: ``gridshape`` is not used in <class 'wradlib.vpr.CAPPI'>. It will be removed in wradlib version 2.0.\n",
      "  warnings.warn(\n"
     ]
    },
    {
     "name": "stdout",
     "output_type": "stream",
     "text": [
      "appended image Weather_3D\\20230115\\RAD_NL62_VOL_NA_202301151105.h5\n"
     ]
    },
    {
     "name": "stderr",
     "output_type": "stream",
     "text": [
      "c:\\Users\\Aleja\\anaconda3\\envs\\geospatial\\Lib\\site-packages\\wradlib\\vpr.py:103: DeprecationWarning: ``gridshape`` is not used in <class 'wradlib.vpr.CAPPI'>. It will be removed in wradlib version 2.0.\n",
      "  warnings.warn(\n"
     ]
    },
    {
     "name": "stdout",
     "output_type": "stream",
     "text": [
      "appended image Weather_3D\\20230115\\RAD_NL62_VOL_NA_202301151110.h5\n"
     ]
    },
    {
     "name": "stderr",
     "output_type": "stream",
     "text": [
      "c:\\Users\\Aleja\\anaconda3\\envs\\geospatial\\Lib\\site-packages\\wradlib\\vpr.py:103: DeprecationWarning: ``gridshape`` is not used in <class 'wradlib.vpr.CAPPI'>. It will be removed in wradlib version 2.0.\n",
      "  warnings.warn(\n"
     ]
    },
    {
     "name": "stdout",
     "output_type": "stream",
     "text": [
      "appended image Weather_3D\\20230115\\RAD_NL62_VOL_NA_202301151115.h5\n"
     ]
    },
    {
     "name": "stderr",
     "output_type": "stream",
     "text": [
      "c:\\Users\\Aleja\\anaconda3\\envs\\geospatial\\Lib\\site-packages\\wradlib\\vpr.py:103: DeprecationWarning: ``gridshape`` is not used in <class 'wradlib.vpr.CAPPI'>. It will be removed in wradlib version 2.0.\n",
      "  warnings.warn(\n"
     ]
    },
    {
     "name": "stdout",
     "output_type": "stream",
     "text": [
      "appended image Weather_3D\\20230115\\RAD_NL62_VOL_NA_202301151120.h5\n"
     ]
    },
    {
     "name": "stderr",
     "output_type": "stream",
     "text": [
      "c:\\Users\\Aleja\\anaconda3\\envs\\geospatial\\Lib\\site-packages\\wradlib\\vpr.py:103: DeprecationWarning: ``gridshape`` is not used in <class 'wradlib.vpr.CAPPI'>. It will be removed in wradlib version 2.0.\n",
      "  warnings.warn(\n"
     ]
    },
    {
     "name": "stdout",
     "output_type": "stream",
     "text": [
      "appended image Weather_3D\\20230115\\RAD_NL62_VOL_NA_202301151125.h5\n"
     ]
    },
    {
     "name": "stderr",
     "output_type": "stream",
     "text": [
      "c:\\Users\\Aleja\\anaconda3\\envs\\geospatial\\Lib\\site-packages\\wradlib\\vpr.py:103: DeprecationWarning: ``gridshape`` is not used in <class 'wradlib.vpr.CAPPI'>. It will be removed in wradlib version 2.0.\n",
      "  warnings.warn(\n"
     ]
    },
    {
     "name": "stdout",
     "output_type": "stream",
     "text": [
      "appended image Weather_3D\\20230115\\RAD_NL62_VOL_NA_202301151130.h5\n"
     ]
    },
    {
     "name": "stderr",
     "output_type": "stream",
     "text": [
      "c:\\Users\\Aleja\\anaconda3\\envs\\geospatial\\Lib\\site-packages\\wradlib\\vpr.py:103: DeprecationWarning: ``gridshape`` is not used in <class 'wradlib.vpr.CAPPI'>. It will be removed in wradlib version 2.0.\n",
      "  warnings.warn(\n"
     ]
    },
    {
     "name": "stdout",
     "output_type": "stream",
     "text": [
      "appended image Weather_3D\\20230115\\RAD_NL62_VOL_NA_202301151135.h5\n"
     ]
    },
    {
     "name": "stderr",
     "output_type": "stream",
     "text": [
      "c:\\Users\\Aleja\\anaconda3\\envs\\geospatial\\Lib\\site-packages\\wradlib\\vpr.py:103: DeprecationWarning: ``gridshape`` is not used in <class 'wradlib.vpr.CAPPI'>. It will be removed in wradlib version 2.0.\n",
      "  warnings.warn(\n"
     ]
    },
    {
     "name": "stdout",
     "output_type": "stream",
     "text": [
      "appended image Weather_3D\\20230115\\RAD_NL62_VOL_NA_202301151140.h5\n"
     ]
    },
    {
     "name": "stderr",
     "output_type": "stream",
     "text": [
      "c:\\Users\\Aleja\\anaconda3\\envs\\geospatial\\Lib\\site-packages\\wradlib\\vpr.py:103: DeprecationWarning: ``gridshape`` is not used in <class 'wradlib.vpr.CAPPI'>. It will be removed in wradlib version 2.0.\n",
      "  warnings.warn(\n"
     ]
    },
    {
     "name": "stdout",
     "output_type": "stream",
     "text": [
      "appended image Weather_3D\\20230115\\RAD_NL62_VOL_NA_202301151145.h5\n"
     ]
    },
    {
     "name": "stderr",
     "output_type": "stream",
     "text": [
      "c:\\Users\\Aleja\\anaconda3\\envs\\geospatial\\Lib\\site-packages\\wradlib\\vpr.py:103: DeprecationWarning: ``gridshape`` is not used in <class 'wradlib.vpr.CAPPI'>. It will be removed in wradlib version 2.0.\n",
      "  warnings.warn(\n"
     ]
    },
    {
     "name": "stdout",
     "output_type": "stream",
     "text": [
      "appended image Weather_3D\\20230115\\RAD_NL62_VOL_NA_202301151150.h5\n"
     ]
    },
    {
     "name": "stderr",
     "output_type": "stream",
     "text": [
      "c:\\Users\\Aleja\\anaconda3\\envs\\geospatial\\Lib\\site-packages\\wradlib\\vpr.py:103: DeprecationWarning: ``gridshape`` is not used in <class 'wradlib.vpr.CAPPI'>. It will be removed in wradlib version 2.0.\n",
      "  warnings.warn(\n"
     ]
    },
    {
     "name": "stdout",
     "output_type": "stream",
     "text": [
      "appended image Weather_3D\\20230115\\RAD_NL62_VOL_NA_202301151155.h5\n"
     ]
    },
    {
     "name": "stderr",
     "output_type": "stream",
     "text": [
      "c:\\Users\\Aleja\\anaconda3\\envs\\geospatial\\Lib\\site-packages\\wradlib\\vpr.py:103: DeprecationWarning: ``gridshape`` is not used in <class 'wradlib.vpr.CAPPI'>. It will be removed in wradlib version 2.0.\n",
      "  warnings.warn(\n"
     ]
    },
    {
     "name": "stdout",
     "output_type": "stream",
     "text": [
      "appended image Weather_3D\\20230115\\RAD_NL62_VOL_NA_202301151200.h5\n"
     ]
    },
    {
     "name": "stderr",
     "output_type": "stream",
     "text": [
      "c:\\Users\\Aleja\\anaconda3\\envs\\geospatial\\Lib\\site-packages\\wradlib\\vpr.py:103: DeprecationWarning: ``gridshape`` is not used in <class 'wradlib.vpr.CAPPI'>. It will be removed in wradlib version 2.0.\n",
      "  warnings.warn(\n"
     ]
    },
    {
     "name": "stdout",
     "output_type": "stream",
     "text": [
      "appended image Weather_3D\\20230115\\RAD_NL62_VOL_NA_202301151205.h5\n"
     ]
    },
    {
     "name": "stderr",
     "output_type": "stream",
     "text": [
      "c:\\Users\\Aleja\\anaconda3\\envs\\geospatial\\Lib\\site-packages\\wradlib\\vpr.py:103: DeprecationWarning: ``gridshape`` is not used in <class 'wradlib.vpr.CAPPI'>. It will be removed in wradlib version 2.0.\n",
      "  warnings.warn(\n"
     ]
    },
    {
     "name": "stdout",
     "output_type": "stream",
     "text": [
      "appended image Weather_3D\\20230115\\RAD_NL62_VOL_NA_202301151210.h5\n"
     ]
    },
    {
     "name": "stderr",
     "output_type": "stream",
     "text": [
      "c:\\Users\\Aleja\\anaconda3\\envs\\geospatial\\Lib\\site-packages\\wradlib\\vpr.py:103: DeprecationWarning: ``gridshape`` is not used in <class 'wradlib.vpr.CAPPI'>. It will be removed in wradlib version 2.0.\n",
      "  warnings.warn(\n"
     ]
    },
    {
     "name": "stdout",
     "output_type": "stream",
     "text": [
      "appended image Weather_3D\\20230115\\RAD_NL62_VOL_NA_202301151215.h5\n"
     ]
    },
    {
     "name": "stderr",
     "output_type": "stream",
     "text": [
      "c:\\Users\\Aleja\\anaconda3\\envs\\geospatial\\Lib\\site-packages\\wradlib\\vpr.py:103: DeprecationWarning: ``gridshape`` is not used in <class 'wradlib.vpr.CAPPI'>. It will be removed in wradlib version 2.0.\n",
      "  warnings.warn(\n"
     ]
    },
    {
     "name": "stdout",
     "output_type": "stream",
     "text": [
      "appended image Weather_3D\\20230115\\RAD_NL62_VOL_NA_202301151220.h5\n"
     ]
    },
    {
     "name": "stderr",
     "output_type": "stream",
     "text": [
      "c:\\Users\\Aleja\\anaconda3\\envs\\geospatial\\Lib\\site-packages\\wradlib\\vpr.py:103: DeprecationWarning: ``gridshape`` is not used in <class 'wradlib.vpr.CAPPI'>. It will be removed in wradlib version 2.0.\n",
      "  warnings.warn(\n"
     ]
    },
    {
     "name": "stdout",
     "output_type": "stream",
     "text": [
      "appended image Weather_3D\\20230115\\RAD_NL62_VOL_NA_202301151225.h5\n"
     ]
    },
    {
     "name": "stderr",
     "output_type": "stream",
     "text": [
      "c:\\Users\\Aleja\\anaconda3\\envs\\geospatial\\Lib\\site-packages\\wradlib\\vpr.py:103: DeprecationWarning: ``gridshape`` is not used in <class 'wradlib.vpr.CAPPI'>. It will be removed in wradlib version 2.0.\n",
      "  warnings.warn(\n"
     ]
    },
    {
     "name": "stdout",
     "output_type": "stream",
     "text": [
      "appended image Weather_3D\\20230115\\RAD_NL62_VOL_NA_202301151230.h5\n"
     ]
    },
    {
     "name": "stderr",
     "output_type": "stream",
     "text": [
      "c:\\Users\\Aleja\\anaconda3\\envs\\geospatial\\Lib\\site-packages\\wradlib\\vpr.py:103: DeprecationWarning: ``gridshape`` is not used in <class 'wradlib.vpr.CAPPI'>. It will be removed in wradlib version 2.0.\n",
      "  warnings.warn(\n"
     ]
    },
    {
     "name": "stdout",
     "output_type": "stream",
     "text": [
      "appended image Weather_3D\\20230115\\RAD_NL62_VOL_NA_202301151235.h5\n"
     ]
    },
    {
     "name": "stderr",
     "output_type": "stream",
     "text": [
      "c:\\Users\\Aleja\\anaconda3\\envs\\geospatial\\Lib\\site-packages\\wradlib\\vpr.py:103: DeprecationWarning: ``gridshape`` is not used in <class 'wradlib.vpr.CAPPI'>. It will be removed in wradlib version 2.0.\n",
      "  warnings.warn(\n"
     ]
    },
    {
     "name": "stdout",
     "output_type": "stream",
     "text": [
      "appended image Weather_3D\\20230115\\RAD_NL62_VOL_NA_202301151240.h5\n"
     ]
    },
    {
     "name": "stderr",
     "output_type": "stream",
     "text": [
      "c:\\Users\\Aleja\\anaconda3\\envs\\geospatial\\Lib\\site-packages\\wradlib\\vpr.py:103: DeprecationWarning: ``gridshape`` is not used in <class 'wradlib.vpr.CAPPI'>. It will be removed in wradlib version 2.0.\n",
      "  warnings.warn(\n"
     ]
    },
    {
     "name": "stdout",
     "output_type": "stream",
     "text": [
      "appended image Weather_3D\\20230115\\RAD_NL62_VOL_NA_202301151245.h5\n"
     ]
    },
    {
     "name": "stderr",
     "output_type": "stream",
     "text": [
      "c:\\Users\\Aleja\\anaconda3\\envs\\geospatial\\Lib\\site-packages\\wradlib\\vpr.py:103: DeprecationWarning: ``gridshape`` is not used in <class 'wradlib.vpr.CAPPI'>. It will be removed in wradlib version 2.0.\n",
      "  warnings.warn(\n"
     ]
    },
    {
     "name": "stdout",
     "output_type": "stream",
     "text": [
      "appended image Weather_3D\\20230115\\RAD_NL62_VOL_NA_202301151250.h5\n"
     ]
    },
    {
     "name": "stderr",
     "output_type": "stream",
     "text": [
      "c:\\Users\\Aleja\\anaconda3\\envs\\geospatial\\Lib\\site-packages\\wradlib\\vpr.py:103: DeprecationWarning: ``gridshape`` is not used in <class 'wradlib.vpr.CAPPI'>. It will be removed in wradlib version 2.0.\n",
      "  warnings.warn(\n"
     ]
    },
    {
     "name": "stdout",
     "output_type": "stream",
     "text": [
      "appended image Weather_3D\\20230115\\RAD_NL62_VOL_NA_202301151255.h5\n"
     ]
    },
    {
     "name": "stderr",
     "output_type": "stream",
     "text": [
      "c:\\Users\\Aleja\\anaconda3\\envs\\geospatial\\Lib\\site-packages\\wradlib\\vpr.py:103: DeprecationWarning: ``gridshape`` is not used in <class 'wradlib.vpr.CAPPI'>. It will be removed in wradlib version 2.0.\n",
      "  warnings.warn(\n"
     ]
    },
    {
     "name": "stdout",
     "output_type": "stream",
     "text": [
      "appended image Weather_3D\\20230115\\RAD_NL62_VOL_NA_202301151300.h5\n"
     ]
    },
    {
     "name": "stderr",
     "output_type": "stream",
     "text": [
      "c:\\Users\\Aleja\\anaconda3\\envs\\geospatial\\Lib\\site-packages\\wradlib\\vpr.py:103: DeprecationWarning: ``gridshape`` is not used in <class 'wradlib.vpr.CAPPI'>. It will be removed in wradlib version 2.0.\n",
      "  warnings.warn(\n"
     ]
    },
    {
     "name": "stdout",
     "output_type": "stream",
     "text": [
      "appended image Weather_3D\\20230115\\RAD_NL62_VOL_NA_202301151305.h5\n"
     ]
    },
    {
     "name": "stderr",
     "output_type": "stream",
     "text": [
      "c:\\Users\\Aleja\\anaconda3\\envs\\geospatial\\Lib\\site-packages\\wradlib\\vpr.py:103: DeprecationWarning: ``gridshape`` is not used in <class 'wradlib.vpr.CAPPI'>. It will be removed in wradlib version 2.0.\n",
      "  warnings.warn(\n"
     ]
    },
    {
     "name": "stdout",
     "output_type": "stream",
     "text": [
      "appended image Weather_3D\\20230115\\RAD_NL62_VOL_NA_202301151310.h5\n"
     ]
    },
    {
     "name": "stderr",
     "output_type": "stream",
     "text": [
      "c:\\Users\\Aleja\\anaconda3\\envs\\geospatial\\Lib\\site-packages\\wradlib\\vpr.py:103: DeprecationWarning: ``gridshape`` is not used in <class 'wradlib.vpr.CAPPI'>. It will be removed in wradlib version 2.0.\n",
      "  warnings.warn(\n"
     ]
    },
    {
     "name": "stdout",
     "output_type": "stream",
     "text": [
      "appended image Weather_3D\\20230115\\RAD_NL62_VOL_NA_202301151315.h5\n"
     ]
    },
    {
     "name": "stderr",
     "output_type": "stream",
     "text": [
      "c:\\Users\\Aleja\\anaconda3\\envs\\geospatial\\Lib\\site-packages\\wradlib\\vpr.py:103: DeprecationWarning: ``gridshape`` is not used in <class 'wradlib.vpr.CAPPI'>. It will be removed in wradlib version 2.0.\n",
      "  warnings.warn(\n"
     ]
    },
    {
     "name": "stdout",
     "output_type": "stream",
     "text": [
      "appended image Weather_3D\\20230115\\RAD_NL62_VOL_NA_202301151320.h5\n"
     ]
    },
    {
     "name": "stderr",
     "output_type": "stream",
     "text": [
      "c:\\Users\\Aleja\\anaconda3\\envs\\geospatial\\Lib\\site-packages\\wradlib\\vpr.py:103: DeprecationWarning: ``gridshape`` is not used in <class 'wradlib.vpr.CAPPI'>. It will be removed in wradlib version 2.0.\n",
      "  warnings.warn(\n"
     ]
    },
    {
     "name": "stdout",
     "output_type": "stream",
     "text": [
      "appended image Weather_3D\\20230115\\RAD_NL62_VOL_NA_202301151325.h5\n"
     ]
    },
    {
     "name": "stderr",
     "output_type": "stream",
     "text": [
      "c:\\Users\\Aleja\\anaconda3\\envs\\geospatial\\Lib\\site-packages\\wradlib\\vpr.py:103: DeprecationWarning: ``gridshape`` is not used in <class 'wradlib.vpr.CAPPI'>. It will be removed in wradlib version 2.0.\n",
      "  warnings.warn(\n"
     ]
    },
    {
     "name": "stdout",
     "output_type": "stream",
     "text": [
      "appended image Weather_3D\\20230115\\RAD_NL62_VOL_NA_202301151330.h5\n"
     ]
    },
    {
     "name": "stderr",
     "output_type": "stream",
     "text": [
      "c:\\Users\\Aleja\\anaconda3\\envs\\geospatial\\Lib\\site-packages\\wradlib\\vpr.py:103: DeprecationWarning: ``gridshape`` is not used in <class 'wradlib.vpr.CAPPI'>. It will be removed in wradlib version 2.0.\n",
      "  warnings.warn(\n"
     ]
    },
    {
     "name": "stdout",
     "output_type": "stream",
     "text": [
      "appended image Weather_3D\\20230115\\RAD_NL62_VOL_NA_202301151335.h5\n"
     ]
    },
    {
     "name": "stderr",
     "output_type": "stream",
     "text": [
      "c:\\Users\\Aleja\\anaconda3\\envs\\geospatial\\Lib\\site-packages\\wradlib\\vpr.py:103: DeprecationWarning: ``gridshape`` is not used in <class 'wradlib.vpr.CAPPI'>. It will be removed in wradlib version 2.0.\n",
      "  warnings.warn(\n"
     ]
    },
    {
     "name": "stdout",
     "output_type": "stream",
     "text": [
      "appended image Weather_3D\\20230115\\RAD_NL62_VOL_NA_202301151340.h5\n"
     ]
    },
    {
     "name": "stderr",
     "output_type": "stream",
     "text": [
      "c:\\Users\\Aleja\\anaconda3\\envs\\geospatial\\Lib\\site-packages\\wradlib\\vpr.py:103: DeprecationWarning: ``gridshape`` is not used in <class 'wradlib.vpr.CAPPI'>. It will be removed in wradlib version 2.0.\n",
      "  warnings.warn(\n"
     ]
    },
    {
     "name": "stdout",
     "output_type": "stream",
     "text": [
      "appended image Weather_3D\\20230115\\RAD_NL62_VOL_NA_202301151345.h5\n"
     ]
    },
    {
     "name": "stderr",
     "output_type": "stream",
     "text": [
      "c:\\Users\\Aleja\\anaconda3\\envs\\geospatial\\Lib\\site-packages\\wradlib\\vpr.py:103: DeprecationWarning: ``gridshape`` is not used in <class 'wradlib.vpr.CAPPI'>. It will be removed in wradlib version 2.0.\n",
      "  warnings.warn(\n"
     ]
    },
    {
     "name": "stdout",
     "output_type": "stream",
     "text": [
      "appended image Weather_3D\\20230115\\RAD_NL62_VOL_NA_202301151350.h5\n"
     ]
    },
    {
     "name": "stderr",
     "output_type": "stream",
     "text": [
      "c:\\Users\\Aleja\\anaconda3\\envs\\geospatial\\Lib\\site-packages\\wradlib\\vpr.py:103: DeprecationWarning: ``gridshape`` is not used in <class 'wradlib.vpr.CAPPI'>. It will be removed in wradlib version 2.0.\n",
      "  warnings.warn(\n"
     ]
    },
    {
     "name": "stdout",
     "output_type": "stream",
     "text": [
      "appended image Weather_3D\\20230115\\RAD_NL62_VOL_NA_202301151355.h5\n"
     ]
    },
    {
     "name": "stderr",
     "output_type": "stream",
     "text": [
      "c:\\Users\\Aleja\\anaconda3\\envs\\geospatial\\Lib\\site-packages\\wradlib\\vpr.py:103: DeprecationWarning: ``gridshape`` is not used in <class 'wradlib.vpr.CAPPI'>. It will be removed in wradlib version 2.0.\n",
      "  warnings.warn(\n"
     ]
    },
    {
     "name": "stdout",
     "output_type": "stream",
     "text": [
      "appended image Weather_3D\\20230115\\RAD_NL62_VOL_NA_202301151400.h5\n"
     ]
    },
    {
     "name": "stderr",
     "output_type": "stream",
     "text": [
      "c:\\Users\\Aleja\\anaconda3\\envs\\geospatial\\Lib\\site-packages\\wradlib\\vpr.py:103: DeprecationWarning: ``gridshape`` is not used in <class 'wradlib.vpr.CAPPI'>. It will be removed in wradlib version 2.0.\n",
      "  warnings.warn(\n"
     ]
    },
    {
     "name": "stdout",
     "output_type": "stream",
     "text": [
      "appended image Weather_3D\\20230115\\RAD_NL62_VOL_NA_202301151405.h5\n"
     ]
    },
    {
     "name": "stderr",
     "output_type": "stream",
     "text": [
      "c:\\Users\\Aleja\\anaconda3\\envs\\geospatial\\Lib\\site-packages\\wradlib\\vpr.py:103: DeprecationWarning: ``gridshape`` is not used in <class 'wradlib.vpr.CAPPI'>. It will be removed in wradlib version 2.0.\n",
      "  warnings.warn(\n"
     ]
    },
    {
     "name": "stdout",
     "output_type": "stream",
     "text": [
      "appended image Weather_3D\\20230115\\RAD_NL62_VOL_NA_202301151410.h5\n"
     ]
    },
    {
     "name": "stderr",
     "output_type": "stream",
     "text": [
      "c:\\Users\\Aleja\\anaconda3\\envs\\geospatial\\Lib\\site-packages\\wradlib\\vpr.py:103: DeprecationWarning: ``gridshape`` is not used in <class 'wradlib.vpr.CAPPI'>. It will be removed in wradlib version 2.0.\n",
      "  warnings.warn(\n"
     ]
    },
    {
     "name": "stdout",
     "output_type": "stream",
     "text": [
      "appended image Weather_3D\\20230115\\RAD_NL62_VOL_NA_202301151415.h5\n"
     ]
    },
    {
     "name": "stderr",
     "output_type": "stream",
     "text": [
      "c:\\Users\\Aleja\\anaconda3\\envs\\geospatial\\Lib\\site-packages\\wradlib\\vpr.py:103: DeprecationWarning: ``gridshape`` is not used in <class 'wradlib.vpr.CAPPI'>. It will be removed in wradlib version 2.0.\n",
      "  warnings.warn(\n"
     ]
    },
    {
     "name": "stdout",
     "output_type": "stream",
     "text": [
      "appended image Weather_3D\\20230115\\RAD_NL62_VOL_NA_202301151420.h5\n"
     ]
    },
    {
     "name": "stderr",
     "output_type": "stream",
     "text": [
      "c:\\Users\\Aleja\\anaconda3\\envs\\geospatial\\Lib\\site-packages\\wradlib\\vpr.py:103: DeprecationWarning: ``gridshape`` is not used in <class 'wradlib.vpr.CAPPI'>. It will be removed in wradlib version 2.0.\n",
      "  warnings.warn(\n"
     ]
    },
    {
     "name": "stdout",
     "output_type": "stream",
     "text": [
      "appended image Weather_3D\\20230115\\RAD_NL62_VOL_NA_202301151425.h5\n"
     ]
    },
    {
     "name": "stderr",
     "output_type": "stream",
     "text": [
      "c:\\Users\\Aleja\\anaconda3\\envs\\geospatial\\Lib\\site-packages\\wradlib\\vpr.py:103: DeprecationWarning: ``gridshape`` is not used in <class 'wradlib.vpr.CAPPI'>. It will be removed in wradlib version 2.0.\n",
      "  warnings.warn(\n"
     ]
    },
    {
     "name": "stdout",
     "output_type": "stream",
     "text": [
      "appended image Weather_3D\\20230115\\RAD_NL62_VOL_NA_202301151430.h5\n"
     ]
    },
    {
     "name": "stderr",
     "output_type": "stream",
     "text": [
      "c:\\Users\\Aleja\\anaconda3\\envs\\geospatial\\Lib\\site-packages\\wradlib\\vpr.py:103: DeprecationWarning: ``gridshape`` is not used in <class 'wradlib.vpr.CAPPI'>. It will be removed in wradlib version 2.0.\n",
      "  warnings.warn(\n"
     ]
    },
    {
     "name": "stdout",
     "output_type": "stream",
     "text": [
      "appended image Weather_3D\\20230115\\RAD_NL62_VOL_NA_202301151435.h5\n"
     ]
    },
    {
     "name": "stderr",
     "output_type": "stream",
     "text": [
      "c:\\Users\\Aleja\\anaconda3\\envs\\geospatial\\Lib\\site-packages\\wradlib\\vpr.py:103: DeprecationWarning: ``gridshape`` is not used in <class 'wradlib.vpr.CAPPI'>. It will be removed in wradlib version 2.0.\n",
      "  warnings.warn(\n"
     ]
    },
    {
     "name": "stdout",
     "output_type": "stream",
     "text": [
      "appended image Weather_3D\\20230115\\RAD_NL62_VOL_NA_202301151440.h5\n"
     ]
    },
    {
     "name": "stderr",
     "output_type": "stream",
     "text": [
      "c:\\Users\\Aleja\\anaconda3\\envs\\geospatial\\Lib\\site-packages\\wradlib\\vpr.py:103: DeprecationWarning: ``gridshape`` is not used in <class 'wradlib.vpr.CAPPI'>. It will be removed in wradlib version 2.0.\n",
      "  warnings.warn(\n"
     ]
    },
    {
     "name": "stdout",
     "output_type": "stream",
     "text": [
      "appended image Weather_3D\\20230115\\RAD_NL62_VOL_NA_202301151445.h5\n"
     ]
    },
    {
     "name": "stderr",
     "output_type": "stream",
     "text": [
      "c:\\Users\\Aleja\\anaconda3\\envs\\geospatial\\Lib\\site-packages\\wradlib\\vpr.py:103: DeprecationWarning: ``gridshape`` is not used in <class 'wradlib.vpr.CAPPI'>. It will be removed in wradlib version 2.0.\n",
      "  warnings.warn(\n"
     ]
    },
    {
     "name": "stdout",
     "output_type": "stream",
     "text": [
      "appended image Weather_3D\\20230115\\RAD_NL62_VOL_NA_202301151450.h5\n"
     ]
    },
    {
     "name": "stderr",
     "output_type": "stream",
     "text": [
      "c:\\Users\\Aleja\\anaconda3\\envs\\geospatial\\Lib\\site-packages\\wradlib\\vpr.py:103: DeprecationWarning: ``gridshape`` is not used in <class 'wradlib.vpr.CAPPI'>. It will be removed in wradlib version 2.0.\n",
      "  warnings.warn(\n"
     ]
    },
    {
     "name": "stdout",
     "output_type": "stream",
     "text": [
      "appended image Weather_3D\\20230115\\RAD_NL62_VOL_NA_202301151455.h5\n"
     ]
    },
    {
     "name": "stderr",
     "output_type": "stream",
     "text": [
      "c:\\Users\\Aleja\\anaconda3\\envs\\geospatial\\Lib\\site-packages\\wradlib\\vpr.py:103: DeprecationWarning: ``gridshape`` is not used in <class 'wradlib.vpr.CAPPI'>. It will be removed in wradlib version 2.0.\n",
      "  warnings.warn(\n"
     ]
    },
    {
     "name": "stdout",
     "output_type": "stream",
     "text": [
      "appended image Weather_3D\\20230115\\RAD_NL62_VOL_NA_202301151500.h5\n"
     ]
    },
    {
     "name": "stderr",
     "output_type": "stream",
     "text": [
      "c:\\Users\\Aleja\\anaconda3\\envs\\geospatial\\Lib\\site-packages\\wradlib\\vpr.py:103: DeprecationWarning: ``gridshape`` is not used in <class 'wradlib.vpr.CAPPI'>. It will be removed in wradlib version 2.0.\n",
      "  warnings.warn(\n"
     ]
    },
    {
     "name": "stdout",
     "output_type": "stream",
     "text": [
      "appended image Weather_3D\\20230115\\RAD_NL62_VOL_NA_202301151505.h5\n"
     ]
    },
    {
     "name": "stderr",
     "output_type": "stream",
     "text": [
      "c:\\Users\\Aleja\\anaconda3\\envs\\geospatial\\Lib\\site-packages\\wradlib\\vpr.py:103: DeprecationWarning: ``gridshape`` is not used in <class 'wradlib.vpr.CAPPI'>. It will be removed in wradlib version 2.0.\n",
      "  warnings.warn(\n"
     ]
    },
    {
     "name": "stdout",
     "output_type": "stream",
     "text": [
      "appended image Weather_3D\\20230115\\RAD_NL62_VOL_NA_202301151510.h5\n"
     ]
    },
    {
     "name": "stderr",
     "output_type": "stream",
     "text": [
      "c:\\Users\\Aleja\\anaconda3\\envs\\geospatial\\Lib\\site-packages\\wradlib\\vpr.py:103: DeprecationWarning: ``gridshape`` is not used in <class 'wradlib.vpr.CAPPI'>. It will be removed in wradlib version 2.0.\n",
      "  warnings.warn(\n"
     ]
    },
    {
     "name": "stdout",
     "output_type": "stream",
     "text": [
      "appended image Weather_3D\\20230115\\RAD_NL62_VOL_NA_202301151515.h5\n"
     ]
    },
    {
     "name": "stderr",
     "output_type": "stream",
     "text": [
      "c:\\Users\\Aleja\\anaconda3\\envs\\geospatial\\Lib\\site-packages\\wradlib\\vpr.py:103: DeprecationWarning: ``gridshape`` is not used in <class 'wradlib.vpr.CAPPI'>. It will be removed in wradlib version 2.0.\n",
      "  warnings.warn(\n"
     ]
    },
    {
     "name": "stdout",
     "output_type": "stream",
     "text": [
      "appended image Weather_3D\\20230115\\RAD_NL62_VOL_NA_202301151520.h5\n"
     ]
    },
    {
     "name": "stderr",
     "output_type": "stream",
     "text": [
      "c:\\Users\\Aleja\\anaconda3\\envs\\geospatial\\Lib\\site-packages\\wradlib\\vpr.py:103: DeprecationWarning: ``gridshape`` is not used in <class 'wradlib.vpr.CAPPI'>. It will be removed in wradlib version 2.0.\n",
      "  warnings.warn(\n"
     ]
    },
    {
     "name": "stdout",
     "output_type": "stream",
     "text": [
      "appended image Weather_3D\\20230115\\RAD_NL62_VOL_NA_202301151525.h5\n"
     ]
    },
    {
     "name": "stderr",
     "output_type": "stream",
     "text": [
      "c:\\Users\\Aleja\\anaconda3\\envs\\geospatial\\Lib\\site-packages\\wradlib\\vpr.py:103: DeprecationWarning: ``gridshape`` is not used in <class 'wradlib.vpr.CAPPI'>. It will be removed in wradlib version 2.0.\n",
      "  warnings.warn(\n"
     ]
    },
    {
     "name": "stdout",
     "output_type": "stream",
     "text": [
      "appended image Weather_3D\\20230115\\RAD_NL62_VOL_NA_202301151530.h5\n"
     ]
    },
    {
     "name": "stderr",
     "output_type": "stream",
     "text": [
      "c:\\Users\\Aleja\\anaconda3\\envs\\geospatial\\Lib\\site-packages\\wradlib\\vpr.py:103: DeprecationWarning: ``gridshape`` is not used in <class 'wradlib.vpr.CAPPI'>. It will be removed in wradlib version 2.0.\n",
      "  warnings.warn(\n"
     ]
    },
    {
     "name": "stdout",
     "output_type": "stream",
     "text": [
      "appended image Weather_3D\\20230115\\RAD_NL62_VOL_NA_202301151535.h5\n"
     ]
    },
    {
     "name": "stderr",
     "output_type": "stream",
     "text": [
      "c:\\Users\\Aleja\\anaconda3\\envs\\geospatial\\Lib\\site-packages\\wradlib\\vpr.py:103: DeprecationWarning: ``gridshape`` is not used in <class 'wradlib.vpr.CAPPI'>. It will be removed in wradlib version 2.0.\n",
      "  warnings.warn(\n"
     ]
    },
    {
     "name": "stdout",
     "output_type": "stream",
     "text": [
      "appended image Weather_3D\\20230115\\RAD_NL62_VOL_NA_202301151540.h5\n"
     ]
    },
    {
     "name": "stderr",
     "output_type": "stream",
     "text": [
      "c:\\Users\\Aleja\\anaconda3\\envs\\geospatial\\Lib\\site-packages\\wradlib\\vpr.py:103: DeprecationWarning: ``gridshape`` is not used in <class 'wradlib.vpr.CAPPI'>. It will be removed in wradlib version 2.0.\n",
      "  warnings.warn(\n"
     ]
    },
    {
     "name": "stdout",
     "output_type": "stream",
     "text": [
      "appended image Weather_3D\\20230115\\RAD_NL62_VOL_NA_202301151545.h5\n"
     ]
    },
    {
     "name": "stderr",
     "output_type": "stream",
     "text": [
      "c:\\Users\\Aleja\\anaconda3\\envs\\geospatial\\Lib\\site-packages\\wradlib\\vpr.py:103: DeprecationWarning: ``gridshape`` is not used in <class 'wradlib.vpr.CAPPI'>. It will be removed in wradlib version 2.0.\n",
      "  warnings.warn(\n"
     ]
    },
    {
     "name": "stdout",
     "output_type": "stream",
     "text": [
      "appended image Weather_3D\\20230115\\RAD_NL62_VOL_NA_202301151550.h5\n"
     ]
    },
    {
     "name": "stderr",
     "output_type": "stream",
     "text": [
      "c:\\Users\\Aleja\\anaconda3\\envs\\geospatial\\Lib\\site-packages\\wradlib\\vpr.py:103: DeprecationWarning: ``gridshape`` is not used in <class 'wradlib.vpr.CAPPI'>. It will be removed in wradlib version 2.0.\n",
      "  warnings.warn(\n"
     ]
    },
    {
     "name": "stdout",
     "output_type": "stream",
     "text": [
      "appended image Weather_3D\\20230115\\RAD_NL62_VOL_NA_202301151555.h5\n"
     ]
    },
    {
     "name": "stderr",
     "output_type": "stream",
     "text": [
      "c:\\Users\\Aleja\\anaconda3\\envs\\geospatial\\Lib\\site-packages\\wradlib\\vpr.py:103: DeprecationWarning: ``gridshape`` is not used in <class 'wradlib.vpr.CAPPI'>. It will be removed in wradlib version 2.0.\n",
      "  warnings.warn(\n"
     ]
    },
    {
     "name": "stdout",
     "output_type": "stream",
     "text": [
      "appended image Weather_3D\\20230115\\RAD_NL62_VOL_NA_202301151600.h5\n"
     ]
    },
    {
     "name": "stderr",
     "output_type": "stream",
     "text": [
      "c:\\Users\\Aleja\\anaconda3\\envs\\geospatial\\Lib\\site-packages\\wradlib\\vpr.py:103: DeprecationWarning: ``gridshape`` is not used in <class 'wradlib.vpr.CAPPI'>. It will be removed in wradlib version 2.0.\n",
      "  warnings.warn(\n"
     ]
    },
    {
     "name": "stdout",
     "output_type": "stream",
     "text": [
      "appended image Weather_3D\\20230115\\RAD_NL62_VOL_NA_202301151605.h5\n"
     ]
    },
    {
     "name": "stderr",
     "output_type": "stream",
     "text": [
      "c:\\Users\\Aleja\\anaconda3\\envs\\geospatial\\Lib\\site-packages\\wradlib\\vpr.py:103: DeprecationWarning: ``gridshape`` is not used in <class 'wradlib.vpr.CAPPI'>. It will be removed in wradlib version 2.0.\n",
      "  warnings.warn(\n"
     ]
    },
    {
     "name": "stdout",
     "output_type": "stream",
     "text": [
      "appended image Weather_3D\\20230115\\RAD_NL62_VOL_NA_202301151610.h5\n"
     ]
    },
    {
     "name": "stderr",
     "output_type": "stream",
     "text": [
      "c:\\Users\\Aleja\\anaconda3\\envs\\geospatial\\Lib\\site-packages\\wradlib\\vpr.py:103: DeprecationWarning: ``gridshape`` is not used in <class 'wradlib.vpr.CAPPI'>. It will be removed in wradlib version 2.0.\n",
      "  warnings.warn(\n"
     ]
    },
    {
     "name": "stdout",
     "output_type": "stream",
     "text": [
      "appended image Weather_3D\\20230115\\RAD_NL62_VOL_NA_202301151615.h5\n"
     ]
    },
    {
     "name": "stderr",
     "output_type": "stream",
     "text": [
      "c:\\Users\\Aleja\\anaconda3\\envs\\geospatial\\Lib\\site-packages\\wradlib\\vpr.py:103: DeprecationWarning: ``gridshape`` is not used in <class 'wradlib.vpr.CAPPI'>. It will be removed in wradlib version 2.0.\n",
      "  warnings.warn(\n"
     ]
    },
    {
     "name": "stdout",
     "output_type": "stream",
     "text": [
      "appended image Weather_3D\\20230115\\RAD_NL62_VOL_NA_202301151620.h5\n"
     ]
    },
    {
     "name": "stderr",
     "output_type": "stream",
     "text": [
      "c:\\Users\\Aleja\\anaconda3\\envs\\geospatial\\Lib\\site-packages\\wradlib\\vpr.py:103: DeprecationWarning: ``gridshape`` is not used in <class 'wradlib.vpr.CAPPI'>. It will be removed in wradlib version 2.0.\n",
      "  warnings.warn(\n"
     ]
    },
    {
     "name": "stdout",
     "output_type": "stream",
     "text": [
      "appended image Weather_3D\\20230115\\RAD_NL62_VOL_NA_202301151625.h5\n"
     ]
    },
    {
     "name": "stderr",
     "output_type": "stream",
     "text": [
      "c:\\Users\\Aleja\\anaconda3\\envs\\geospatial\\Lib\\site-packages\\wradlib\\vpr.py:103: DeprecationWarning: ``gridshape`` is not used in <class 'wradlib.vpr.CAPPI'>. It will be removed in wradlib version 2.0.\n",
      "  warnings.warn(\n"
     ]
    },
    {
     "name": "stdout",
     "output_type": "stream",
     "text": [
      "appended image Weather_3D\\20230115\\RAD_NL62_VOL_NA_202301151630.h5\n"
     ]
    },
    {
     "name": "stderr",
     "output_type": "stream",
     "text": [
      "c:\\Users\\Aleja\\anaconda3\\envs\\geospatial\\Lib\\site-packages\\wradlib\\vpr.py:103: DeprecationWarning: ``gridshape`` is not used in <class 'wradlib.vpr.CAPPI'>. It will be removed in wradlib version 2.0.\n",
      "  warnings.warn(\n"
     ]
    },
    {
     "name": "stdout",
     "output_type": "stream",
     "text": [
      "appended image Weather_3D\\20230115\\RAD_NL62_VOL_NA_202301151635.h5\n"
     ]
    },
    {
     "name": "stderr",
     "output_type": "stream",
     "text": [
      "c:\\Users\\Aleja\\anaconda3\\envs\\geospatial\\Lib\\site-packages\\wradlib\\vpr.py:103: DeprecationWarning: ``gridshape`` is not used in <class 'wradlib.vpr.CAPPI'>. It will be removed in wradlib version 2.0.\n",
      "  warnings.warn(\n"
     ]
    },
    {
     "name": "stdout",
     "output_type": "stream",
     "text": [
      "appended image Weather_3D\\20230115\\RAD_NL62_VOL_NA_202301151640.h5\n"
     ]
    },
    {
     "name": "stderr",
     "output_type": "stream",
     "text": [
      "c:\\Users\\Aleja\\anaconda3\\envs\\geospatial\\Lib\\site-packages\\wradlib\\vpr.py:103: DeprecationWarning: ``gridshape`` is not used in <class 'wradlib.vpr.CAPPI'>. It will be removed in wradlib version 2.0.\n",
      "  warnings.warn(\n"
     ]
    },
    {
     "name": "stdout",
     "output_type": "stream",
     "text": [
      "appended image Weather_3D\\20230115\\RAD_NL62_VOL_NA_202301151645.h5\n"
     ]
    },
    {
     "name": "stderr",
     "output_type": "stream",
     "text": [
      "c:\\Users\\Aleja\\anaconda3\\envs\\geospatial\\Lib\\site-packages\\wradlib\\vpr.py:103: DeprecationWarning: ``gridshape`` is not used in <class 'wradlib.vpr.CAPPI'>. It will be removed in wradlib version 2.0.\n",
      "  warnings.warn(\n"
     ]
    },
    {
     "name": "stdout",
     "output_type": "stream",
     "text": [
      "appended image Weather_3D\\20230115\\RAD_NL62_VOL_NA_202301151650.h5\n"
     ]
    },
    {
     "name": "stderr",
     "output_type": "stream",
     "text": [
      "c:\\Users\\Aleja\\anaconda3\\envs\\geospatial\\Lib\\site-packages\\wradlib\\vpr.py:103: DeprecationWarning: ``gridshape`` is not used in <class 'wradlib.vpr.CAPPI'>. It will be removed in wradlib version 2.0.\n",
      "  warnings.warn(\n"
     ]
    },
    {
     "name": "stdout",
     "output_type": "stream",
     "text": [
      "appended image Weather_3D\\20230115\\RAD_NL62_VOL_NA_202301151655.h5\n"
     ]
    },
    {
     "name": "stderr",
     "output_type": "stream",
     "text": [
      "c:\\Users\\Aleja\\anaconda3\\envs\\geospatial\\Lib\\site-packages\\wradlib\\vpr.py:103: DeprecationWarning: ``gridshape`` is not used in <class 'wradlib.vpr.CAPPI'>. It will be removed in wradlib version 2.0.\n",
      "  warnings.warn(\n"
     ]
    },
    {
     "name": "stdout",
     "output_type": "stream",
     "text": [
      "appended image Weather_3D\\20230115\\RAD_NL62_VOL_NA_202301151700.h5\n"
     ]
    },
    {
     "name": "stderr",
     "output_type": "stream",
     "text": [
      "c:\\Users\\Aleja\\anaconda3\\envs\\geospatial\\Lib\\site-packages\\wradlib\\vpr.py:103: DeprecationWarning: ``gridshape`` is not used in <class 'wradlib.vpr.CAPPI'>. It will be removed in wradlib version 2.0.\n",
      "  warnings.warn(\n"
     ]
    },
    {
     "name": "stdout",
     "output_type": "stream",
     "text": [
      "appended image Weather_3D\\20230115\\RAD_NL62_VOL_NA_202301151705.h5\n"
     ]
    },
    {
     "name": "stderr",
     "output_type": "stream",
     "text": [
      "c:\\Users\\Aleja\\anaconda3\\envs\\geospatial\\Lib\\site-packages\\wradlib\\vpr.py:103: DeprecationWarning: ``gridshape`` is not used in <class 'wradlib.vpr.CAPPI'>. It will be removed in wradlib version 2.0.\n",
      "  warnings.warn(\n"
     ]
    },
    {
     "name": "stdout",
     "output_type": "stream",
     "text": [
      "appended image Weather_3D\\20230115\\RAD_NL62_VOL_NA_202301151710.h5\n"
     ]
    },
    {
     "name": "stderr",
     "output_type": "stream",
     "text": [
      "c:\\Users\\Aleja\\anaconda3\\envs\\geospatial\\Lib\\site-packages\\wradlib\\vpr.py:103: DeprecationWarning: ``gridshape`` is not used in <class 'wradlib.vpr.CAPPI'>. It will be removed in wradlib version 2.0.\n",
      "  warnings.warn(\n"
     ]
    },
    {
     "name": "stdout",
     "output_type": "stream",
     "text": [
      "appended image Weather_3D\\20230115\\RAD_NL62_VOL_NA_202301151715.h5\n"
     ]
    },
    {
     "name": "stderr",
     "output_type": "stream",
     "text": [
      "c:\\Users\\Aleja\\anaconda3\\envs\\geospatial\\Lib\\site-packages\\wradlib\\vpr.py:103: DeprecationWarning: ``gridshape`` is not used in <class 'wradlib.vpr.CAPPI'>. It will be removed in wradlib version 2.0.\n",
      "  warnings.warn(\n"
     ]
    },
    {
     "name": "stdout",
     "output_type": "stream",
     "text": [
      "appended image Weather_3D\\20230115\\RAD_NL62_VOL_NA_202301151720.h5\n"
     ]
    },
    {
     "name": "stderr",
     "output_type": "stream",
     "text": [
      "c:\\Users\\Aleja\\anaconda3\\envs\\geospatial\\Lib\\site-packages\\wradlib\\vpr.py:103: DeprecationWarning: ``gridshape`` is not used in <class 'wradlib.vpr.CAPPI'>. It will be removed in wradlib version 2.0.\n",
      "  warnings.warn(\n"
     ]
    },
    {
     "name": "stdout",
     "output_type": "stream",
     "text": [
      "appended image Weather_3D\\20230115\\RAD_NL62_VOL_NA_202301151725.h5\n"
     ]
    },
    {
     "name": "stderr",
     "output_type": "stream",
     "text": [
      "c:\\Users\\Aleja\\anaconda3\\envs\\geospatial\\Lib\\site-packages\\wradlib\\vpr.py:103: DeprecationWarning: ``gridshape`` is not used in <class 'wradlib.vpr.CAPPI'>. It will be removed in wradlib version 2.0.\n",
      "  warnings.warn(\n"
     ]
    },
    {
     "name": "stdout",
     "output_type": "stream",
     "text": [
      "appended image Weather_3D\\20230115\\RAD_NL62_VOL_NA_202301151730.h5\n"
     ]
    },
    {
     "name": "stderr",
     "output_type": "stream",
     "text": [
      "c:\\Users\\Aleja\\anaconda3\\envs\\geospatial\\Lib\\site-packages\\wradlib\\vpr.py:103: DeprecationWarning: ``gridshape`` is not used in <class 'wradlib.vpr.CAPPI'>. It will be removed in wradlib version 2.0.\n",
      "  warnings.warn(\n"
     ]
    },
    {
     "name": "stdout",
     "output_type": "stream",
     "text": [
      "appended image Weather_3D\\20230115\\RAD_NL62_VOL_NA_202301151735.h5\n"
     ]
    },
    {
     "name": "stderr",
     "output_type": "stream",
     "text": [
      "c:\\Users\\Aleja\\anaconda3\\envs\\geospatial\\Lib\\site-packages\\wradlib\\vpr.py:103: DeprecationWarning: ``gridshape`` is not used in <class 'wradlib.vpr.CAPPI'>. It will be removed in wradlib version 2.0.\n",
      "  warnings.warn(\n"
     ]
    },
    {
     "name": "stdout",
     "output_type": "stream",
     "text": [
      "appended image Weather_3D\\20230115\\RAD_NL62_VOL_NA_202301151740.h5\n"
     ]
    },
    {
     "name": "stderr",
     "output_type": "stream",
     "text": [
      "c:\\Users\\Aleja\\anaconda3\\envs\\geospatial\\Lib\\site-packages\\wradlib\\vpr.py:103: DeprecationWarning: ``gridshape`` is not used in <class 'wradlib.vpr.CAPPI'>. It will be removed in wradlib version 2.0.\n",
      "  warnings.warn(\n"
     ]
    },
    {
     "name": "stdout",
     "output_type": "stream",
     "text": [
      "appended image Weather_3D\\20230115\\RAD_NL62_VOL_NA_202301151745.h5\n"
     ]
    },
    {
     "name": "stderr",
     "output_type": "stream",
     "text": [
      "c:\\Users\\Aleja\\anaconda3\\envs\\geospatial\\Lib\\site-packages\\wradlib\\vpr.py:103: DeprecationWarning: ``gridshape`` is not used in <class 'wradlib.vpr.CAPPI'>. It will be removed in wradlib version 2.0.\n",
      "  warnings.warn(\n"
     ]
    },
    {
     "name": "stdout",
     "output_type": "stream",
     "text": [
      "appended image Weather_3D\\20230115\\RAD_NL62_VOL_NA_202301151750.h5\n"
     ]
    },
    {
     "name": "stderr",
     "output_type": "stream",
     "text": [
      "c:\\Users\\Aleja\\anaconda3\\envs\\geospatial\\Lib\\site-packages\\wradlib\\vpr.py:103: DeprecationWarning: ``gridshape`` is not used in <class 'wradlib.vpr.CAPPI'>. It will be removed in wradlib version 2.0.\n",
      "  warnings.warn(\n"
     ]
    },
    {
     "name": "stdout",
     "output_type": "stream",
     "text": [
      "appended image Weather_3D\\20230115\\RAD_NL62_VOL_NA_202301151755.h5\n"
     ]
    },
    {
     "name": "stderr",
     "output_type": "stream",
     "text": [
      "c:\\Users\\Aleja\\anaconda3\\envs\\geospatial\\Lib\\site-packages\\wradlib\\vpr.py:103: DeprecationWarning: ``gridshape`` is not used in <class 'wradlib.vpr.CAPPI'>. It will be removed in wradlib version 2.0.\n",
      "  warnings.warn(\n"
     ]
    },
    {
     "name": "stdout",
     "output_type": "stream",
     "text": [
      "appended image Weather_3D\\20230115\\RAD_NL62_VOL_NA_202301151800.h5\n"
     ]
    },
    {
     "name": "stderr",
     "output_type": "stream",
     "text": [
      "c:\\Users\\Aleja\\anaconda3\\envs\\geospatial\\Lib\\site-packages\\wradlib\\vpr.py:103: DeprecationWarning: ``gridshape`` is not used in <class 'wradlib.vpr.CAPPI'>. It will be removed in wradlib version 2.0.\n",
      "  warnings.warn(\n"
     ]
    },
    {
     "name": "stdout",
     "output_type": "stream",
     "text": [
      "appended image Weather_3D\\20230115\\RAD_NL62_VOL_NA_202301151805.h5\n"
     ]
    },
    {
     "name": "stderr",
     "output_type": "stream",
     "text": [
      "c:\\Users\\Aleja\\anaconda3\\envs\\geospatial\\Lib\\site-packages\\wradlib\\vpr.py:103: DeprecationWarning: ``gridshape`` is not used in <class 'wradlib.vpr.CAPPI'>. It will be removed in wradlib version 2.0.\n",
      "  warnings.warn(\n"
     ]
    },
    {
     "name": "stdout",
     "output_type": "stream",
     "text": [
      "appended image Weather_3D\\20230115\\RAD_NL62_VOL_NA_202301151810.h5\n"
     ]
    },
    {
     "name": "stderr",
     "output_type": "stream",
     "text": [
      "c:\\Users\\Aleja\\anaconda3\\envs\\geospatial\\Lib\\site-packages\\wradlib\\vpr.py:103: DeprecationWarning: ``gridshape`` is not used in <class 'wradlib.vpr.CAPPI'>. It will be removed in wradlib version 2.0.\n",
      "  warnings.warn(\n"
     ]
    },
    {
     "name": "stdout",
     "output_type": "stream",
     "text": [
      "appended image Weather_3D\\20230115\\RAD_NL62_VOL_NA_202301151815.h5\n"
     ]
    },
    {
     "name": "stderr",
     "output_type": "stream",
     "text": [
      "c:\\Users\\Aleja\\anaconda3\\envs\\geospatial\\Lib\\site-packages\\wradlib\\vpr.py:103: DeprecationWarning: ``gridshape`` is not used in <class 'wradlib.vpr.CAPPI'>. It will be removed in wradlib version 2.0.\n",
      "  warnings.warn(\n"
     ]
    },
    {
     "name": "stdout",
     "output_type": "stream",
     "text": [
      "appended image Weather_3D\\20230115\\RAD_NL62_VOL_NA_202301151820.h5\n"
     ]
    },
    {
     "name": "stderr",
     "output_type": "stream",
     "text": [
      "c:\\Users\\Aleja\\anaconda3\\envs\\geospatial\\Lib\\site-packages\\wradlib\\vpr.py:103: DeprecationWarning: ``gridshape`` is not used in <class 'wradlib.vpr.CAPPI'>. It will be removed in wradlib version 2.0.\n",
      "  warnings.warn(\n"
     ]
    },
    {
     "name": "stdout",
     "output_type": "stream",
     "text": [
      "appended image Weather_3D\\20230115\\RAD_NL62_VOL_NA_202301151825.h5\n"
     ]
    },
    {
     "name": "stderr",
     "output_type": "stream",
     "text": [
      "c:\\Users\\Aleja\\anaconda3\\envs\\geospatial\\Lib\\site-packages\\wradlib\\vpr.py:103: DeprecationWarning: ``gridshape`` is not used in <class 'wradlib.vpr.CAPPI'>. It will be removed in wradlib version 2.0.\n",
      "  warnings.warn(\n"
     ]
    },
    {
     "name": "stdout",
     "output_type": "stream",
     "text": [
      "appended image Weather_3D\\20230115\\RAD_NL62_VOL_NA_202301151830.h5\n"
     ]
    },
    {
     "name": "stderr",
     "output_type": "stream",
     "text": [
      "c:\\Users\\Aleja\\anaconda3\\envs\\geospatial\\Lib\\site-packages\\wradlib\\vpr.py:103: DeprecationWarning: ``gridshape`` is not used in <class 'wradlib.vpr.CAPPI'>. It will be removed in wradlib version 2.0.\n",
      "  warnings.warn(\n"
     ]
    },
    {
     "name": "stdout",
     "output_type": "stream",
     "text": [
      "appended image Weather_3D\\20230115\\RAD_NL62_VOL_NA_202301151835.h5\n"
     ]
    },
    {
     "name": "stderr",
     "output_type": "stream",
     "text": [
      "c:\\Users\\Aleja\\anaconda3\\envs\\geospatial\\Lib\\site-packages\\wradlib\\vpr.py:103: DeprecationWarning: ``gridshape`` is not used in <class 'wradlib.vpr.CAPPI'>. It will be removed in wradlib version 2.0.\n",
      "  warnings.warn(\n"
     ]
    },
    {
     "name": "stdout",
     "output_type": "stream",
     "text": [
      "appended image Weather_3D\\20230115\\RAD_NL62_VOL_NA_202301151840.h5\n"
     ]
    },
    {
     "name": "stderr",
     "output_type": "stream",
     "text": [
      "c:\\Users\\Aleja\\anaconda3\\envs\\geospatial\\Lib\\site-packages\\wradlib\\vpr.py:103: DeprecationWarning: ``gridshape`` is not used in <class 'wradlib.vpr.CAPPI'>. It will be removed in wradlib version 2.0.\n",
      "  warnings.warn(\n"
     ]
    },
    {
     "name": "stdout",
     "output_type": "stream",
     "text": [
      "appended image Weather_3D\\20230115\\RAD_NL62_VOL_NA_202301151845.h5\n"
     ]
    },
    {
     "name": "stderr",
     "output_type": "stream",
     "text": [
      "c:\\Users\\Aleja\\anaconda3\\envs\\geospatial\\Lib\\site-packages\\wradlib\\vpr.py:103: DeprecationWarning: ``gridshape`` is not used in <class 'wradlib.vpr.CAPPI'>. It will be removed in wradlib version 2.0.\n",
      "  warnings.warn(\n"
     ]
    },
    {
     "name": "stdout",
     "output_type": "stream",
     "text": [
      "appended image Weather_3D\\20230115\\RAD_NL62_VOL_NA_202301151850.h5\n"
     ]
    },
    {
     "name": "stderr",
     "output_type": "stream",
     "text": [
      "c:\\Users\\Aleja\\anaconda3\\envs\\geospatial\\Lib\\site-packages\\wradlib\\vpr.py:103: DeprecationWarning: ``gridshape`` is not used in <class 'wradlib.vpr.CAPPI'>. It will be removed in wradlib version 2.0.\n",
      "  warnings.warn(\n"
     ]
    },
    {
     "name": "stdout",
     "output_type": "stream",
     "text": [
      "appended image Weather_3D\\20230115\\RAD_NL62_VOL_NA_202301151855.h5\n"
     ]
    },
    {
     "name": "stderr",
     "output_type": "stream",
     "text": [
      "c:\\Users\\Aleja\\anaconda3\\envs\\geospatial\\Lib\\site-packages\\wradlib\\vpr.py:103: DeprecationWarning: ``gridshape`` is not used in <class 'wradlib.vpr.CAPPI'>. It will be removed in wradlib version 2.0.\n",
      "  warnings.warn(\n"
     ]
    },
    {
     "name": "stdout",
     "output_type": "stream",
     "text": [
      "appended image Weather_3D\\20230115\\RAD_NL62_VOL_NA_202301151900.h5\n"
     ]
    },
    {
     "name": "stderr",
     "output_type": "stream",
     "text": [
      "c:\\Users\\Aleja\\anaconda3\\envs\\geospatial\\Lib\\site-packages\\wradlib\\vpr.py:103: DeprecationWarning: ``gridshape`` is not used in <class 'wradlib.vpr.CAPPI'>. It will be removed in wradlib version 2.0.\n",
      "  warnings.warn(\n"
     ]
    },
    {
     "name": "stdout",
     "output_type": "stream",
     "text": [
      "appended image Weather_3D\\20230115\\RAD_NL62_VOL_NA_202301151905.h5\n"
     ]
    },
    {
     "name": "stderr",
     "output_type": "stream",
     "text": [
      "c:\\Users\\Aleja\\anaconda3\\envs\\geospatial\\Lib\\site-packages\\wradlib\\vpr.py:103: DeprecationWarning: ``gridshape`` is not used in <class 'wradlib.vpr.CAPPI'>. It will be removed in wradlib version 2.0.\n",
      "  warnings.warn(\n"
     ]
    },
    {
     "name": "stdout",
     "output_type": "stream",
     "text": [
      "appended image Weather_3D\\20230115\\RAD_NL62_VOL_NA_202301151910.h5\n"
     ]
    },
    {
     "name": "stderr",
     "output_type": "stream",
     "text": [
      "c:\\Users\\Aleja\\anaconda3\\envs\\geospatial\\Lib\\site-packages\\wradlib\\vpr.py:103: DeprecationWarning: ``gridshape`` is not used in <class 'wradlib.vpr.CAPPI'>. It will be removed in wradlib version 2.0.\n",
      "  warnings.warn(\n"
     ]
    },
    {
     "name": "stdout",
     "output_type": "stream",
     "text": [
      "appended image Weather_3D\\20230115\\RAD_NL62_VOL_NA_202301151915.h5\n"
     ]
    },
    {
     "name": "stderr",
     "output_type": "stream",
     "text": [
      "c:\\Users\\Aleja\\anaconda3\\envs\\geospatial\\Lib\\site-packages\\wradlib\\vpr.py:103: DeprecationWarning: ``gridshape`` is not used in <class 'wradlib.vpr.CAPPI'>. It will be removed in wradlib version 2.0.\n",
      "  warnings.warn(\n"
     ]
    },
    {
     "name": "stdout",
     "output_type": "stream",
     "text": [
      "appended image Weather_3D\\20230115\\RAD_NL62_VOL_NA_202301151920.h5\n"
     ]
    },
    {
     "name": "stderr",
     "output_type": "stream",
     "text": [
      "c:\\Users\\Aleja\\anaconda3\\envs\\geospatial\\Lib\\site-packages\\wradlib\\vpr.py:103: DeprecationWarning: ``gridshape`` is not used in <class 'wradlib.vpr.CAPPI'>. It will be removed in wradlib version 2.0.\n",
      "  warnings.warn(\n"
     ]
    },
    {
     "name": "stdout",
     "output_type": "stream",
     "text": [
      "appended image Weather_3D\\20230115\\RAD_NL62_VOL_NA_202301151925.h5\n"
     ]
    },
    {
     "name": "stderr",
     "output_type": "stream",
     "text": [
      "c:\\Users\\Aleja\\anaconda3\\envs\\geospatial\\Lib\\site-packages\\wradlib\\vpr.py:103: DeprecationWarning: ``gridshape`` is not used in <class 'wradlib.vpr.CAPPI'>. It will be removed in wradlib version 2.0.\n",
      "  warnings.warn(\n"
     ]
    },
    {
     "name": "stdout",
     "output_type": "stream",
     "text": [
      "appended image Weather_3D\\20230115\\RAD_NL62_VOL_NA_202301151930.h5\n"
     ]
    },
    {
     "name": "stderr",
     "output_type": "stream",
     "text": [
      "c:\\Users\\Aleja\\anaconda3\\envs\\geospatial\\Lib\\site-packages\\wradlib\\vpr.py:103: DeprecationWarning: ``gridshape`` is not used in <class 'wradlib.vpr.CAPPI'>. It will be removed in wradlib version 2.0.\n",
      "  warnings.warn(\n"
     ]
    },
    {
     "name": "stdout",
     "output_type": "stream",
     "text": [
      "appended image Weather_3D\\20230115\\RAD_NL62_VOL_NA_202301151935.h5\n"
     ]
    },
    {
     "name": "stderr",
     "output_type": "stream",
     "text": [
      "c:\\Users\\Aleja\\anaconda3\\envs\\geospatial\\Lib\\site-packages\\wradlib\\vpr.py:103: DeprecationWarning: ``gridshape`` is not used in <class 'wradlib.vpr.CAPPI'>. It will be removed in wradlib version 2.0.\n",
      "  warnings.warn(\n"
     ]
    },
    {
     "name": "stdout",
     "output_type": "stream",
     "text": [
      "appended image Weather_3D\\20230115\\RAD_NL62_VOL_NA_202301151940.h5\n"
     ]
    },
    {
     "name": "stderr",
     "output_type": "stream",
     "text": [
      "c:\\Users\\Aleja\\anaconda3\\envs\\geospatial\\Lib\\site-packages\\wradlib\\vpr.py:103: DeprecationWarning: ``gridshape`` is not used in <class 'wradlib.vpr.CAPPI'>. It will be removed in wradlib version 2.0.\n",
      "  warnings.warn(\n"
     ]
    },
    {
     "name": "stdout",
     "output_type": "stream",
     "text": [
      "appended image Weather_3D\\20230115\\RAD_NL62_VOL_NA_202301151945.h5\n"
     ]
    },
    {
     "name": "stderr",
     "output_type": "stream",
     "text": [
      "c:\\Users\\Aleja\\anaconda3\\envs\\geospatial\\Lib\\site-packages\\wradlib\\vpr.py:103: DeprecationWarning: ``gridshape`` is not used in <class 'wradlib.vpr.CAPPI'>. It will be removed in wradlib version 2.0.\n",
      "  warnings.warn(\n"
     ]
    },
    {
     "name": "stdout",
     "output_type": "stream",
     "text": [
      "appended image Weather_3D\\20230115\\RAD_NL62_VOL_NA_202301151950.h5\n"
     ]
    },
    {
     "name": "stderr",
     "output_type": "stream",
     "text": [
      "c:\\Users\\Aleja\\anaconda3\\envs\\geospatial\\Lib\\site-packages\\wradlib\\vpr.py:103: DeprecationWarning: ``gridshape`` is not used in <class 'wradlib.vpr.CAPPI'>. It will be removed in wradlib version 2.0.\n",
      "  warnings.warn(\n"
     ]
    },
    {
     "name": "stdout",
     "output_type": "stream",
     "text": [
      "appended image Weather_3D\\20230115\\RAD_NL62_VOL_NA_202301151955.h5\n"
     ]
    },
    {
     "name": "stderr",
     "output_type": "stream",
     "text": [
      "c:\\Users\\Aleja\\anaconda3\\envs\\geospatial\\Lib\\site-packages\\wradlib\\vpr.py:103: DeprecationWarning: ``gridshape`` is not used in <class 'wradlib.vpr.CAPPI'>. It will be removed in wradlib version 2.0.\n",
      "  warnings.warn(\n"
     ]
    },
    {
     "name": "stdout",
     "output_type": "stream",
     "text": [
      "appended image Weather_3D\\20230115\\RAD_NL62_VOL_NA_202301152000.h5\n"
     ]
    },
    {
     "name": "stderr",
     "output_type": "stream",
     "text": [
      "c:\\Users\\Aleja\\anaconda3\\envs\\geospatial\\Lib\\site-packages\\wradlib\\vpr.py:103: DeprecationWarning: ``gridshape`` is not used in <class 'wradlib.vpr.CAPPI'>. It will be removed in wradlib version 2.0.\n",
      "  warnings.warn(\n"
     ]
    },
    {
     "name": "stdout",
     "output_type": "stream",
     "text": [
      "appended image Weather_3D\\20230115\\RAD_NL62_VOL_NA_202301152005.h5\n"
     ]
    },
    {
     "name": "stderr",
     "output_type": "stream",
     "text": [
      "c:\\Users\\Aleja\\anaconda3\\envs\\geospatial\\Lib\\site-packages\\wradlib\\vpr.py:103: DeprecationWarning: ``gridshape`` is not used in <class 'wradlib.vpr.CAPPI'>. It will be removed in wradlib version 2.0.\n",
      "  warnings.warn(\n"
     ]
    },
    {
     "name": "stdout",
     "output_type": "stream",
     "text": [
      "appended image Weather_3D\\20230115\\RAD_NL62_VOL_NA_202301152010.h5\n"
     ]
    },
    {
     "name": "stderr",
     "output_type": "stream",
     "text": [
      "c:\\Users\\Aleja\\anaconda3\\envs\\geospatial\\Lib\\site-packages\\wradlib\\vpr.py:103: DeprecationWarning: ``gridshape`` is not used in <class 'wradlib.vpr.CAPPI'>. It will be removed in wradlib version 2.0.\n",
      "  warnings.warn(\n"
     ]
    },
    {
     "name": "stdout",
     "output_type": "stream",
     "text": [
      "appended image Weather_3D\\20230115\\RAD_NL62_VOL_NA_202301152015.h5\n"
     ]
    },
    {
     "name": "stderr",
     "output_type": "stream",
     "text": [
      "c:\\Users\\Aleja\\anaconda3\\envs\\geospatial\\Lib\\site-packages\\wradlib\\vpr.py:103: DeprecationWarning: ``gridshape`` is not used in <class 'wradlib.vpr.CAPPI'>. It will be removed in wradlib version 2.0.\n",
      "  warnings.warn(\n"
     ]
    },
    {
     "name": "stdout",
     "output_type": "stream",
     "text": [
      "appended image Weather_3D\\20230115\\RAD_NL62_VOL_NA_202301152020.h5\n"
     ]
    },
    {
     "name": "stderr",
     "output_type": "stream",
     "text": [
      "c:\\Users\\Aleja\\anaconda3\\envs\\geospatial\\Lib\\site-packages\\wradlib\\vpr.py:103: DeprecationWarning: ``gridshape`` is not used in <class 'wradlib.vpr.CAPPI'>. It will be removed in wradlib version 2.0.\n",
      "  warnings.warn(\n"
     ]
    },
    {
     "name": "stdout",
     "output_type": "stream",
     "text": [
      "appended image Weather_3D\\20230115\\RAD_NL62_VOL_NA_202301152025.h5\n"
     ]
    },
    {
     "name": "stderr",
     "output_type": "stream",
     "text": [
      "c:\\Users\\Aleja\\anaconda3\\envs\\geospatial\\Lib\\site-packages\\wradlib\\vpr.py:103: DeprecationWarning: ``gridshape`` is not used in <class 'wradlib.vpr.CAPPI'>. It will be removed in wradlib version 2.0.\n",
      "  warnings.warn(\n"
     ]
    },
    {
     "name": "stdout",
     "output_type": "stream",
     "text": [
      "appended image Weather_3D\\20230115\\RAD_NL62_VOL_NA_202301152030.h5\n"
     ]
    },
    {
     "name": "stderr",
     "output_type": "stream",
     "text": [
      "c:\\Users\\Aleja\\anaconda3\\envs\\geospatial\\Lib\\site-packages\\wradlib\\vpr.py:103: DeprecationWarning: ``gridshape`` is not used in <class 'wradlib.vpr.CAPPI'>. It will be removed in wradlib version 2.0.\n",
      "  warnings.warn(\n"
     ]
    },
    {
     "name": "stdout",
     "output_type": "stream",
     "text": [
      "appended image Weather_3D\\20230115\\RAD_NL62_VOL_NA_202301152035.h5\n"
     ]
    },
    {
     "name": "stderr",
     "output_type": "stream",
     "text": [
      "c:\\Users\\Aleja\\anaconda3\\envs\\geospatial\\Lib\\site-packages\\wradlib\\vpr.py:103: DeprecationWarning: ``gridshape`` is not used in <class 'wradlib.vpr.CAPPI'>. It will be removed in wradlib version 2.0.\n",
      "  warnings.warn(\n"
     ]
    },
    {
     "name": "stdout",
     "output_type": "stream",
     "text": [
      "appended image Weather_3D\\20230115\\RAD_NL62_VOL_NA_202301152040.h5\n"
     ]
    },
    {
     "name": "stderr",
     "output_type": "stream",
     "text": [
      "c:\\Users\\Aleja\\anaconda3\\envs\\geospatial\\Lib\\site-packages\\wradlib\\vpr.py:103: DeprecationWarning: ``gridshape`` is not used in <class 'wradlib.vpr.CAPPI'>. It will be removed in wradlib version 2.0.\n",
      "  warnings.warn(\n"
     ]
    },
    {
     "name": "stdout",
     "output_type": "stream",
     "text": [
      "appended image Weather_3D\\20230115\\RAD_NL62_VOL_NA_202301152045.h5\n"
     ]
    },
    {
     "name": "stderr",
     "output_type": "stream",
     "text": [
      "c:\\Users\\Aleja\\anaconda3\\envs\\geospatial\\Lib\\site-packages\\wradlib\\vpr.py:103: DeprecationWarning: ``gridshape`` is not used in <class 'wradlib.vpr.CAPPI'>. It will be removed in wradlib version 2.0.\n",
      "  warnings.warn(\n"
     ]
    },
    {
     "name": "stdout",
     "output_type": "stream",
     "text": [
      "appended image Weather_3D\\20230115\\RAD_NL62_VOL_NA_202301152050.h5\n"
     ]
    },
    {
     "name": "stderr",
     "output_type": "stream",
     "text": [
      "c:\\Users\\Aleja\\anaconda3\\envs\\geospatial\\Lib\\site-packages\\wradlib\\vpr.py:103: DeprecationWarning: ``gridshape`` is not used in <class 'wradlib.vpr.CAPPI'>. It will be removed in wradlib version 2.0.\n",
      "  warnings.warn(\n"
     ]
    },
    {
     "name": "stdout",
     "output_type": "stream",
     "text": [
      "appended image Weather_3D\\20230115\\RAD_NL62_VOL_NA_202301152055.h5\n"
     ]
    },
    {
     "name": "stderr",
     "output_type": "stream",
     "text": [
      "c:\\Users\\Aleja\\anaconda3\\envs\\geospatial\\Lib\\site-packages\\wradlib\\vpr.py:103: DeprecationWarning: ``gridshape`` is not used in <class 'wradlib.vpr.CAPPI'>. It will be removed in wradlib version 2.0.\n",
      "  warnings.warn(\n"
     ]
    },
    {
     "name": "stdout",
     "output_type": "stream",
     "text": [
      "appended image Weather_3D\\20230115\\RAD_NL62_VOL_NA_202301152100.h5\n"
     ]
    },
    {
     "name": "stderr",
     "output_type": "stream",
     "text": [
      "c:\\Users\\Aleja\\anaconda3\\envs\\geospatial\\Lib\\site-packages\\wradlib\\vpr.py:103: DeprecationWarning: ``gridshape`` is not used in <class 'wradlib.vpr.CAPPI'>. It will be removed in wradlib version 2.0.\n",
      "  warnings.warn(\n"
     ]
    },
    {
     "name": "stdout",
     "output_type": "stream",
     "text": [
      "appended image Weather_3D\\20230115\\RAD_NL62_VOL_NA_202301152105.h5\n"
     ]
    },
    {
     "name": "stderr",
     "output_type": "stream",
     "text": [
      "c:\\Users\\Aleja\\anaconda3\\envs\\geospatial\\Lib\\site-packages\\wradlib\\vpr.py:103: DeprecationWarning: ``gridshape`` is not used in <class 'wradlib.vpr.CAPPI'>. It will be removed in wradlib version 2.0.\n",
      "  warnings.warn(\n"
     ]
    },
    {
     "name": "stdout",
     "output_type": "stream",
     "text": [
      "appended image Weather_3D\\20230115\\RAD_NL62_VOL_NA_202301152110.h5\n"
     ]
    },
    {
     "name": "stderr",
     "output_type": "stream",
     "text": [
      "c:\\Users\\Aleja\\anaconda3\\envs\\geospatial\\Lib\\site-packages\\wradlib\\vpr.py:103: DeprecationWarning: ``gridshape`` is not used in <class 'wradlib.vpr.CAPPI'>. It will be removed in wradlib version 2.0.\n",
      "  warnings.warn(\n"
     ]
    },
    {
     "name": "stdout",
     "output_type": "stream",
     "text": [
      "appended image Weather_3D\\20230115\\RAD_NL62_VOL_NA_202301152115.h5\n"
     ]
    },
    {
     "name": "stderr",
     "output_type": "stream",
     "text": [
      "c:\\Users\\Aleja\\anaconda3\\envs\\geospatial\\Lib\\site-packages\\wradlib\\vpr.py:103: DeprecationWarning: ``gridshape`` is not used in <class 'wradlib.vpr.CAPPI'>. It will be removed in wradlib version 2.0.\n",
      "  warnings.warn(\n"
     ]
    },
    {
     "name": "stdout",
     "output_type": "stream",
     "text": [
      "appended image Weather_3D\\20230115\\RAD_NL62_VOL_NA_202301152120.h5\n"
     ]
    },
    {
     "name": "stderr",
     "output_type": "stream",
     "text": [
      "c:\\Users\\Aleja\\anaconda3\\envs\\geospatial\\Lib\\site-packages\\wradlib\\vpr.py:103: DeprecationWarning: ``gridshape`` is not used in <class 'wradlib.vpr.CAPPI'>. It will be removed in wradlib version 2.0.\n",
      "  warnings.warn(\n"
     ]
    },
    {
     "name": "stdout",
     "output_type": "stream",
     "text": [
      "appended image Weather_3D\\20230115\\RAD_NL62_VOL_NA_202301152125.h5\n"
     ]
    },
    {
     "name": "stderr",
     "output_type": "stream",
     "text": [
      "c:\\Users\\Aleja\\anaconda3\\envs\\geospatial\\Lib\\site-packages\\wradlib\\vpr.py:103: DeprecationWarning: ``gridshape`` is not used in <class 'wradlib.vpr.CAPPI'>. It will be removed in wradlib version 2.0.\n",
      "  warnings.warn(\n"
     ]
    },
    {
     "name": "stdout",
     "output_type": "stream",
     "text": [
      "appended image Weather_3D\\20230115\\RAD_NL62_VOL_NA_202301152130.h5\n"
     ]
    },
    {
     "name": "stderr",
     "output_type": "stream",
     "text": [
      "c:\\Users\\Aleja\\anaconda3\\envs\\geospatial\\Lib\\site-packages\\wradlib\\vpr.py:103: DeprecationWarning: ``gridshape`` is not used in <class 'wradlib.vpr.CAPPI'>. It will be removed in wradlib version 2.0.\n",
      "  warnings.warn(\n"
     ]
    },
    {
     "name": "stdout",
     "output_type": "stream",
     "text": [
      "appended image Weather_3D\\20230115\\RAD_NL62_VOL_NA_202301152135.h5\n"
     ]
    },
    {
     "name": "stderr",
     "output_type": "stream",
     "text": [
      "c:\\Users\\Aleja\\anaconda3\\envs\\geospatial\\Lib\\site-packages\\wradlib\\vpr.py:103: DeprecationWarning: ``gridshape`` is not used in <class 'wradlib.vpr.CAPPI'>. It will be removed in wradlib version 2.0.\n",
      "  warnings.warn(\n"
     ]
    },
    {
     "name": "stdout",
     "output_type": "stream",
     "text": [
      "appended image Weather_3D\\20230115\\RAD_NL62_VOL_NA_202301152140.h5\n"
     ]
    },
    {
     "name": "stderr",
     "output_type": "stream",
     "text": [
      "c:\\Users\\Aleja\\anaconda3\\envs\\geospatial\\Lib\\site-packages\\wradlib\\vpr.py:103: DeprecationWarning: ``gridshape`` is not used in <class 'wradlib.vpr.CAPPI'>. It will be removed in wradlib version 2.0.\n",
      "  warnings.warn(\n"
     ]
    },
    {
     "name": "stdout",
     "output_type": "stream",
     "text": [
      "appended image Weather_3D\\20230115\\RAD_NL62_VOL_NA_202301152145.h5\n"
     ]
    },
    {
     "name": "stderr",
     "output_type": "stream",
     "text": [
      "c:\\Users\\Aleja\\anaconda3\\envs\\geospatial\\Lib\\site-packages\\wradlib\\vpr.py:103: DeprecationWarning: ``gridshape`` is not used in <class 'wradlib.vpr.CAPPI'>. It will be removed in wradlib version 2.0.\n",
      "  warnings.warn(\n"
     ]
    },
    {
     "name": "stdout",
     "output_type": "stream",
     "text": [
      "appended image Weather_3D\\20230115\\RAD_NL62_VOL_NA_202301152150.h5\n"
     ]
    },
    {
     "name": "stderr",
     "output_type": "stream",
     "text": [
      "c:\\Users\\Aleja\\anaconda3\\envs\\geospatial\\Lib\\site-packages\\wradlib\\vpr.py:103: DeprecationWarning: ``gridshape`` is not used in <class 'wradlib.vpr.CAPPI'>. It will be removed in wradlib version 2.0.\n",
      "  warnings.warn(\n"
     ]
    },
    {
     "name": "stdout",
     "output_type": "stream",
     "text": [
      "appended image Weather_3D\\20230115\\RAD_NL62_VOL_NA_202301152155.h5\n"
     ]
    },
    {
     "name": "stderr",
     "output_type": "stream",
     "text": [
      "c:\\Users\\Aleja\\anaconda3\\envs\\geospatial\\Lib\\site-packages\\wradlib\\vpr.py:103: DeprecationWarning: ``gridshape`` is not used in <class 'wradlib.vpr.CAPPI'>. It will be removed in wradlib version 2.0.\n",
      "  warnings.warn(\n"
     ]
    },
    {
     "name": "stdout",
     "output_type": "stream",
     "text": [
      "appended image Weather_3D\\20230115\\RAD_NL62_VOL_NA_202301152200.h5\n"
     ]
    },
    {
     "name": "stderr",
     "output_type": "stream",
     "text": [
      "c:\\Users\\Aleja\\anaconda3\\envs\\geospatial\\Lib\\site-packages\\wradlib\\vpr.py:103: DeprecationWarning: ``gridshape`` is not used in <class 'wradlib.vpr.CAPPI'>. It will be removed in wradlib version 2.0.\n",
      "  warnings.warn(\n"
     ]
    },
    {
     "name": "stdout",
     "output_type": "stream",
     "text": [
      "appended image Weather_3D\\20230115\\RAD_NL62_VOL_NA_202301152205.h5\n"
     ]
    },
    {
     "name": "stderr",
     "output_type": "stream",
     "text": [
      "c:\\Users\\Aleja\\anaconda3\\envs\\geospatial\\Lib\\site-packages\\wradlib\\vpr.py:103: DeprecationWarning: ``gridshape`` is not used in <class 'wradlib.vpr.CAPPI'>. It will be removed in wradlib version 2.0.\n",
      "  warnings.warn(\n"
     ]
    },
    {
     "name": "stdout",
     "output_type": "stream",
     "text": [
      "appended image Weather_3D\\20230115\\RAD_NL62_VOL_NA_202301152210.h5\n"
     ]
    },
    {
     "name": "stderr",
     "output_type": "stream",
     "text": [
      "c:\\Users\\Aleja\\anaconda3\\envs\\geospatial\\Lib\\site-packages\\wradlib\\vpr.py:103: DeprecationWarning: ``gridshape`` is not used in <class 'wradlib.vpr.CAPPI'>. It will be removed in wradlib version 2.0.\n",
      "  warnings.warn(\n"
     ]
    },
    {
     "name": "stdout",
     "output_type": "stream",
     "text": [
      "appended image Weather_3D\\20230115\\RAD_NL62_VOL_NA_202301152215.h5\n"
     ]
    },
    {
     "name": "stderr",
     "output_type": "stream",
     "text": [
      "c:\\Users\\Aleja\\anaconda3\\envs\\geospatial\\Lib\\site-packages\\wradlib\\vpr.py:103: DeprecationWarning: ``gridshape`` is not used in <class 'wradlib.vpr.CAPPI'>. It will be removed in wradlib version 2.0.\n",
      "  warnings.warn(\n"
     ]
    },
    {
     "name": "stdout",
     "output_type": "stream",
     "text": [
      "appended image Weather_3D\\20230115\\RAD_NL62_VOL_NA_202301152220.h5\n"
     ]
    },
    {
     "name": "stderr",
     "output_type": "stream",
     "text": [
      "c:\\Users\\Aleja\\anaconda3\\envs\\geospatial\\Lib\\site-packages\\wradlib\\vpr.py:103: DeprecationWarning: ``gridshape`` is not used in <class 'wradlib.vpr.CAPPI'>. It will be removed in wradlib version 2.0.\n",
      "  warnings.warn(\n"
     ]
    },
    {
     "name": "stdout",
     "output_type": "stream",
     "text": [
      "appended image Weather_3D\\20230115\\RAD_NL62_VOL_NA_202301152225.h5\n"
     ]
    },
    {
     "name": "stderr",
     "output_type": "stream",
     "text": [
      "c:\\Users\\Aleja\\anaconda3\\envs\\geospatial\\Lib\\site-packages\\wradlib\\vpr.py:103: DeprecationWarning: ``gridshape`` is not used in <class 'wradlib.vpr.CAPPI'>. It will be removed in wradlib version 2.0.\n",
      "  warnings.warn(\n"
     ]
    },
    {
     "name": "stdout",
     "output_type": "stream",
     "text": [
      "appended image Weather_3D\\20230115\\RAD_NL62_VOL_NA_202301152230.h5\n"
     ]
    },
    {
     "name": "stderr",
     "output_type": "stream",
     "text": [
      "c:\\Users\\Aleja\\anaconda3\\envs\\geospatial\\Lib\\site-packages\\wradlib\\vpr.py:103: DeprecationWarning: ``gridshape`` is not used in <class 'wradlib.vpr.CAPPI'>. It will be removed in wradlib version 2.0.\n",
      "  warnings.warn(\n"
     ]
    },
    {
     "name": "stdout",
     "output_type": "stream",
     "text": [
      "appended image Weather_3D\\20230115\\RAD_NL62_VOL_NA_202301152235.h5\n"
     ]
    },
    {
     "name": "stderr",
     "output_type": "stream",
     "text": [
      "c:\\Users\\Aleja\\anaconda3\\envs\\geospatial\\Lib\\site-packages\\wradlib\\vpr.py:103: DeprecationWarning: ``gridshape`` is not used in <class 'wradlib.vpr.CAPPI'>. It will be removed in wradlib version 2.0.\n",
      "  warnings.warn(\n"
     ]
    },
    {
     "name": "stdout",
     "output_type": "stream",
     "text": [
      "appended image Weather_3D\\20230115\\RAD_NL62_VOL_NA_202301152240.h5\n"
     ]
    },
    {
     "name": "stderr",
     "output_type": "stream",
     "text": [
      "c:\\Users\\Aleja\\anaconda3\\envs\\geospatial\\Lib\\site-packages\\wradlib\\vpr.py:103: DeprecationWarning: ``gridshape`` is not used in <class 'wradlib.vpr.CAPPI'>. It will be removed in wradlib version 2.0.\n",
      "  warnings.warn(\n"
     ]
    },
    {
     "name": "stdout",
     "output_type": "stream",
     "text": [
      "appended image Weather_3D\\20230115\\RAD_NL62_VOL_NA_202301152245.h5\n"
     ]
    },
    {
     "name": "stderr",
     "output_type": "stream",
     "text": [
      "c:\\Users\\Aleja\\anaconda3\\envs\\geospatial\\Lib\\site-packages\\wradlib\\vpr.py:103: DeprecationWarning: ``gridshape`` is not used in <class 'wradlib.vpr.CAPPI'>. It will be removed in wradlib version 2.0.\n",
      "  warnings.warn(\n"
     ]
    },
    {
     "name": "stdout",
     "output_type": "stream",
     "text": [
      "appended image Weather_3D\\20230115\\RAD_NL62_VOL_NA_202301152250.h5\n"
     ]
    },
    {
     "name": "stderr",
     "output_type": "stream",
     "text": [
      "c:\\Users\\Aleja\\anaconda3\\envs\\geospatial\\Lib\\site-packages\\wradlib\\vpr.py:103: DeprecationWarning: ``gridshape`` is not used in <class 'wradlib.vpr.CAPPI'>. It will be removed in wradlib version 2.0.\n",
      "  warnings.warn(\n"
     ]
    },
    {
     "name": "stdout",
     "output_type": "stream",
     "text": [
      "appended image Weather_3D\\20230115\\RAD_NL62_VOL_NA_202301152255.h5\n"
     ]
    },
    {
     "name": "stderr",
     "output_type": "stream",
     "text": [
      "c:\\Users\\Aleja\\anaconda3\\envs\\geospatial\\Lib\\site-packages\\wradlib\\vpr.py:103: DeprecationWarning: ``gridshape`` is not used in <class 'wradlib.vpr.CAPPI'>. It will be removed in wradlib version 2.0.\n",
      "  warnings.warn(\n"
     ]
    },
    {
     "name": "stdout",
     "output_type": "stream",
     "text": [
      "appended image Weather_3D\\20230115\\RAD_NL62_VOL_NA_202301152300.h5\n"
     ]
    },
    {
     "name": "stderr",
     "output_type": "stream",
     "text": [
      "c:\\Users\\Aleja\\anaconda3\\envs\\geospatial\\Lib\\site-packages\\wradlib\\vpr.py:103: DeprecationWarning: ``gridshape`` is not used in <class 'wradlib.vpr.CAPPI'>. It will be removed in wradlib version 2.0.\n",
      "  warnings.warn(\n"
     ]
    },
    {
     "name": "stdout",
     "output_type": "stream",
     "text": [
      "appended image Weather_3D\\20230115\\RAD_NL62_VOL_NA_202301152305.h5\n"
     ]
    },
    {
     "name": "stderr",
     "output_type": "stream",
     "text": [
      "c:\\Users\\Aleja\\anaconda3\\envs\\geospatial\\Lib\\site-packages\\wradlib\\vpr.py:103: DeprecationWarning: ``gridshape`` is not used in <class 'wradlib.vpr.CAPPI'>. It will be removed in wradlib version 2.0.\n",
      "  warnings.warn(\n"
     ]
    },
    {
     "name": "stdout",
     "output_type": "stream",
     "text": [
      "appended image Weather_3D\\20230115\\RAD_NL62_VOL_NA_202301152310.h5\n"
     ]
    },
    {
     "name": "stderr",
     "output_type": "stream",
     "text": [
      "c:\\Users\\Aleja\\anaconda3\\envs\\geospatial\\Lib\\site-packages\\wradlib\\vpr.py:103: DeprecationWarning: ``gridshape`` is not used in <class 'wradlib.vpr.CAPPI'>. It will be removed in wradlib version 2.0.\n",
      "  warnings.warn(\n"
     ]
    },
    {
     "name": "stdout",
     "output_type": "stream",
     "text": [
      "appended image Weather_3D\\20230115\\RAD_NL62_VOL_NA_202301152315.h5\n"
     ]
    },
    {
     "name": "stderr",
     "output_type": "stream",
     "text": [
      "c:\\Users\\Aleja\\anaconda3\\envs\\geospatial\\Lib\\site-packages\\wradlib\\vpr.py:103: DeprecationWarning: ``gridshape`` is not used in <class 'wradlib.vpr.CAPPI'>. It will be removed in wradlib version 2.0.\n",
      "  warnings.warn(\n"
     ]
    },
    {
     "name": "stdout",
     "output_type": "stream",
     "text": [
      "appended image Weather_3D\\20230115\\RAD_NL62_VOL_NA_202301152320.h5\n"
     ]
    },
    {
     "name": "stderr",
     "output_type": "stream",
     "text": [
      "c:\\Users\\Aleja\\anaconda3\\envs\\geospatial\\Lib\\site-packages\\wradlib\\vpr.py:103: DeprecationWarning: ``gridshape`` is not used in <class 'wradlib.vpr.CAPPI'>. It will be removed in wradlib version 2.0.\n",
      "  warnings.warn(\n"
     ]
    },
    {
     "name": "stdout",
     "output_type": "stream",
     "text": [
      "appended image Weather_3D\\20230115\\RAD_NL62_VOL_NA_202301152325.h5\n"
     ]
    },
    {
     "name": "stderr",
     "output_type": "stream",
     "text": [
      "c:\\Users\\Aleja\\anaconda3\\envs\\geospatial\\Lib\\site-packages\\wradlib\\vpr.py:103: DeprecationWarning: ``gridshape`` is not used in <class 'wradlib.vpr.CAPPI'>. It will be removed in wradlib version 2.0.\n",
      "  warnings.warn(\n"
     ]
    },
    {
     "name": "stdout",
     "output_type": "stream",
     "text": [
      "appended image Weather_3D\\20230115\\RAD_NL62_VOL_NA_202301152330.h5\n"
     ]
    },
    {
     "name": "stderr",
     "output_type": "stream",
     "text": [
      "c:\\Users\\Aleja\\anaconda3\\envs\\geospatial\\Lib\\site-packages\\wradlib\\vpr.py:103: DeprecationWarning: ``gridshape`` is not used in <class 'wradlib.vpr.CAPPI'>. It will be removed in wradlib version 2.0.\n",
      "  warnings.warn(\n"
     ]
    },
    {
     "name": "stdout",
     "output_type": "stream",
     "text": [
      "appended image Weather_3D\\20230115\\RAD_NL62_VOL_NA_202301152335.h5\n"
     ]
    },
    {
     "name": "stderr",
     "output_type": "stream",
     "text": [
      "c:\\Users\\Aleja\\anaconda3\\envs\\geospatial\\Lib\\site-packages\\wradlib\\vpr.py:103: DeprecationWarning: ``gridshape`` is not used in <class 'wradlib.vpr.CAPPI'>. It will be removed in wradlib version 2.0.\n",
      "  warnings.warn(\n"
     ]
    },
    {
     "name": "stdout",
     "output_type": "stream",
     "text": [
      "appended image Weather_3D\\20230115\\RAD_NL62_VOL_NA_202301152340.h5\n"
     ]
    },
    {
     "name": "stderr",
     "output_type": "stream",
     "text": [
      "c:\\Users\\Aleja\\anaconda3\\envs\\geospatial\\Lib\\site-packages\\wradlib\\vpr.py:103: DeprecationWarning: ``gridshape`` is not used in <class 'wradlib.vpr.CAPPI'>. It will be removed in wradlib version 2.0.\n",
      "  warnings.warn(\n"
     ]
    },
    {
     "name": "stdout",
     "output_type": "stream",
     "text": [
      "appended image Weather_3D\\20230115\\RAD_NL62_VOL_NA_202301152345.h5\n"
     ]
    },
    {
     "name": "stderr",
     "output_type": "stream",
     "text": [
      "c:\\Users\\Aleja\\anaconda3\\envs\\geospatial\\Lib\\site-packages\\wradlib\\vpr.py:103: DeprecationWarning: ``gridshape`` is not used in <class 'wradlib.vpr.CAPPI'>. It will be removed in wradlib version 2.0.\n",
      "  warnings.warn(\n"
     ]
    },
    {
     "name": "stdout",
     "output_type": "stream",
     "text": [
      "appended image Weather_3D\\20230115\\RAD_NL62_VOL_NA_202301152350.h5\n"
     ]
    },
    {
     "name": "stderr",
     "output_type": "stream",
     "text": [
      "c:\\Users\\Aleja\\anaconda3\\envs\\geospatial\\Lib\\site-packages\\wradlib\\vpr.py:103: DeprecationWarning: ``gridshape`` is not used in <class 'wradlib.vpr.CAPPI'>. It will be removed in wradlib version 2.0.\n",
      "  warnings.warn(\n"
     ]
    },
    {
     "name": "stdout",
     "output_type": "stream",
     "text": [
      "appended image Weather_3D\\20230115\\RAD_NL62_VOL_NA_202301152355.h5\n"
     ]
    }
   ],
   "source": [
    "import shutil\n",
    "\n",
    "# Define the parameters\n",
    "EPSG = 32632\n",
    "var = \"Z\"\n",
    "AntennaElev = 50\n",
    "res_params = dict(maxrange = 200000.0,\n",
    "                  maxalt = 15000.0,\n",
    "                  horiz_res = 1980.0, # 1980(144),1780(160), 1480(192)\n",
    "                  vert_res = 100.0)\n",
    "\n",
    "# Iterate over the downloaded dates\n",
    "dates = [20230111, 20230115, 20230424, 20230510, 20230705, 20230731, 20230801, 20230803, 20230806, 20230922, 20231013, 20231019, 20231021, 20231031, 20231103, 20231109, 20231119, 20231127, 20231210]\n",
    "\n",
    "for date in dates:\n",
    "    '''\n",
    "    Function to pre-process the radar data for all the given dates\n",
    "    '''\n",
    "    \n",
    "    # Convert date to string\n",
    "    date= str(date)\n",
    "    dateObject = dt.datetime.strptime(date, '%Y%m%d')\n",
    "    # Find the date file\n",
    "    filename = f\"RAD62_OPER_O___TARVOL__L2__{date}T000000_{(dateObject + dt.timedelta(days=1)).strftime('%Y%m%d')}T000000_0001.tar\"\n",
    "    \n",
    "    # Extract the file\n",
    "    if not os.path.exists(\"Weather_3D\"):\n",
    "        os.mkdir(\"Weather_3D\")\n",
    "    \n",
    "    fname = os.path.join(\"Weather_3D\", date)\n",
    "    with tarfile.open(filename, \"r\") as tf:\n",
    "        if os.path.isdir(f\"{fname}\"):\n",
    "            shutil.rmtree(f\"{fname}\")\n",
    "            \n",
    "        os.mkdir(f\"Weather_3D/{date}\")\n",
    "        tf.extractall(path=f\"Weather_3D/{date}\",filter='data')\n",
    "\n",
    "\n",
    "    # initialise\n",
    "    if not os.path.exists(\"Sequences\"):\n",
    "        os.mkdir(\"Sequences\")\n",
    "             \n",
    "    Video = []\n",
    "    iteration = 0\n",
    "    hour = 0\n",
    "\n",
    "    for file in os.listdir(fname):\n",
    "        '''\n",
    "        Iterate over the extracted files\n",
    "        '''\n",
    "        file= os.path.join(fname, file)\n",
    "        iteration += 1\n",
    "\n",
    "        # Function for vertical aggregation (e.g. np.max, np.quantile, np.mean, etc.)\n",
    "        agg_fun = np.max\n",
    "\n",
    "        # STEP 1: Project the radar volume\n",
    "        data, xyz, rad_d = project_radar_data(file, EPSG, AntennaElev, var)\n",
    "\n",
    "        #remove negative values and normalise data\n",
    "        data[data<0] = 0\n",
    "        data = data/70\n",
    "\n",
    "        # Set elevation angles in resolution parameters\n",
    "        res_params['minelev'] = np.min(rad_d['elev_ang'])\n",
    "        res_params['maxelev'] = np.max(rad_d['elev_ang'])\n",
    "\n",
    "        # STEP 2: interpolate to Cartesian 3-D volume grid\n",
    "        v, co = interpolate_radar_data(data, xyz, rad_d['proj'], rad_d['sitecoords'], **res_params)\n",
    "\n",
    "        # STEP 3: Rasterize the 3D grid with vertical aggregation\n",
    "        vol = rasterize_agg(v, co, res_params, EPSG, agg_fun)\n",
    "\n",
    "        # Remove the NaN values and save the 2D image\n",
    "        Image = np.ma.getdata(vol)\n",
    "        Image[Image==1e+20] = 0\n",
    "        Video.append([Image])\n",
    "        np.save(f\"Sequences/{date}.npy\",np.array(Video))\n",
    "        \n",
    "    # Remove the extracted file to save space\n",
    "    if os.path.isdir(f\"{fname}\"):\n",
    "        shutil.rmtree(f\"{fname}\")\n",
    "        \n",
    "\n"
   ]
  },
  {
   "cell_type": "code",
   "execution_count": 3,
   "id": "a55784e7",
   "metadata": {},
   "outputs": [],
   "source": [
    "import pickle\n",
    "import numpy as np\n",
    "import os\n",
    "\n",
    "dataset = {}\n",
    "\n",
    "X_train = []\n",
    "Y_train = []\n",
    "X_val = []\n",
    "Y_val = []\n",
    "X_test = []\n",
    "Y_test = []\n",
    "\n",
    "for file in os.listdir(\"Sequences\"):\n",
    "\n",
    "    # Load the numpy array from the file\n",
    "    imgs = np.load(f\"Sequences/{file}\")\n",
    "    it = 0\n",
    "\n",
    "    # Split the data based on the year in the file name\n",
    "    if file[:4] in [\"2020\", \"2021\", \"2022\", \"2023\"]:\n",
    "        # Split the data into training sequences and corresponding target sequences\n",
    "        for i in range((len(imgs)//12)-1):\n",
    "            X_train.append(imgs[it:it+12])\n",
    "            Y_train.append(imgs[it+12:it+24])\n",
    "            it += 12\n",
    "    elif file[:4] == \"2019\":\n",
    "        # Split the data into validation sequences and corresponding target sequences\n",
    "        for i in range((len(imgs)//24)-1):\n",
    "            X_val.append(imgs[it:it+12])\n",
    "            Y_val.append(imgs[it+12:it+24])\n",
    "            it += 24\n",
    "    elif file[:4] == \"2018\":\n",
    "        # Split the data into testing sequences and corresponding target sequences\n",
    "        for i in range((len(imgs)//24)-1):\n",
    "            X_test.append(imgs[it:it+12])\n",
    "            Y_test.append(imgs[it+12:it+24])\n",
    "            it += 24\n",
    "    \n",
    "dataset[\"X_train\"] = np.array(X_train)\n",
    "dataset[\"Y_train\"] = np.array(Y_train)\n",
    "dataset[\"X_val\"] = np.array(X_val)\n",
    "dataset[\"Y_val\"] = np.array(Y_val)\n",
    "dataset[\"X_test\"] = np.array(X_test)\n",
    "dataset[\"Y_test\"] = np.array(Y_test)\n",
    "\n",
    "# save as a pkl file\n",
    "with open('dataset.pkl', 'wb') as f:\n",
    "    pickle.dump(dataset, f)"
   ]
  }
 ],
 "metadata": {
  "kernelspec": {
   "display_name": "Python 3 (ipykernel)",
   "language": "python",
   "name": "python3"
  },
  "language_info": {
   "codemirror_mode": {
    "name": "ipython",
    "version": 3
   },
   "file_extension": ".py",
   "mimetype": "text/x-python",
   "name": "python",
   "nbconvert_exporter": "python",
   "pygments_lexer": "ipython3",
   "version": "3.9.0"
  }
 },
 "nbformat": 4,
 "nbformat_minor": 5
}
