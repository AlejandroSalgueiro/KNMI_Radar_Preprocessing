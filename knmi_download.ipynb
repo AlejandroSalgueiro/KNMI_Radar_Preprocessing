{
 "cells": [
  {
   "cell_type": "code",
   "execution_count": 2,
   "id": "1651ea18",
   "metadata": {},
   "outputs": [],
   "source": [
    "### import libraries\n",
    "\n",
    "import wradlib as wrl\n",
    "import rasterio\n",
    "from rasterio.transform import Affine\n",
    "import numpy as np\n",
    "import matplotlib.pyplot as plt\n",
    "import pandas as pd\n",
    "from datetime import datetime\n",
    "import datetime as dt\n",
    "import logging\n",
    "import sys\n",
    "import requests"
   ]
  },
  {
   "cell_type": "code",
   "execution_count": 3,
   "id": "8ba03a49",
   "metadata": {},
   "outputs": [],
   "source": [
    "def download_data(date):\n",
    "\n",
    "    #Which data you want to download (Volume radar for a whole day as tar file)\n",
    "\n",
    "    # Set the API key. See https://developer.dataplatform.knmi.nl/get-started#obtain-an-api-key for more information\n",
    "    api_key = \"eyJvcmciOiI1ZTU1NGUxOTI3NGE5NjAwMDEyYTNlYjEiLCJpZCI6ImE1OGI5NGZmMDY5NDRhZDNhZjFkMDBmNDBmNTQyNjBkIiwiaCI6Im11cm11cjEyOCJ9\"  # Public API key\n",
    "\n",
    "    #date = \"20230104\"   # Specify the date in format yearmonthday all together\n",
    "    dateObject = dt.datetime.strptime(date, '%Y%m%d')\n",
    "    # Set up logging\n",
    "    logging.basicConfig()\n",
    "    logger = logging.getLogger(__name__)\n",
    "    logger.setLevel(\"INFO\")\n",
    "\n",
    "    api_url = \"https://api.dataplatform.knmi.nl/open-data\"\n",
    "    api_version = \"v1\"\n",
    "\n",
    "\n",
    "    def main():\n",
    "        # Parameters\n",
    "        max_keys = \"1\"\n",
    "        global filename\n",
    "        #radar parameters\n",
    "        dataset_name = \"radar_forecast\"\n",
    "        filename = f\"RAD62_OPER_O___TARVOL__L2__{date}T000000_{(dateObject + dt.timedelta(days=1)).strftime ('%Y%m%d')}T000000_0001.tar\"\n",
    "        dataset_version = \"1.0\"\n",
    "\n",
    "\n",
    "        # Use list files request to request file of the day.\n",
    "        get_file_response  = requests.get(\n",
    "            f\"https://api.dataplatform.knmi.nl/open-data/v1/datasets/radar_tar_vol_full_herwijnen/versions/1.0/files/{filename}/url\",\n",
    "            headers={\"Authorization\": api_key},\n",
    "        )\n",
    "        \n",
    "        if get_file_response.status_code != 200:\n",
    "            logger.error(\"Unable to retrieve download url for file\")\n",
    "            logger.error(get_file_response.text)\n",
    "            sys.exit(1)\n",
    "\n",
    "        logger.info(f\"Successfully retrieved temporary download URL for dataset file {filename}\")\n",
    "\n",
    "        download_url = get_file_response.json().get(\"temporaryDownloadUrl\")\n",
    "        # Check logging for deprecation\n",
    "        if \"X-KNMI-Deprecation\" in get_file_response.headers:\n",
    "            deprecation_message = get_file_response.headers.get(\"X-KNMI-Deprecation\")\n",
    "            logger.warning(f\"Deprecation message: {deprecation_message}\")\n",
    "\n",
    "        download_file_from_temporary_download_url(download_url, filename)\n",
    "\n",
    "\n",
    "    def download_file_from_temporary_download_url(download_url, filename):\n",
    "        try:\n",
    "            with requests.get(download_url, stream=True) as r:\n",
    "                r.raise_for_status()\n",
    "                with open(filename, \"wb\") as f:\n",
    "                    for chunk in r.iter_content(chunk_size=8192):\n",
    "                        f.write(chunk)\n",
    "        except Exception:\n",
    "            logger.exception(\"Unable to download file using download URL\")\n",
    "            sys.exit(1)\n",
    "\n",
    "        logger.info(f\"Successfully downloaded dataset file to {filename}\")\n",
    "\n",
    "    \n",
    "    if __name__ == \"__main__\":\n",
    "        main()"
   ]
  },
  {
   "cell_type": "code",
   "execution_count": 4,
   "id": "e7621ac5",
   "metadata": {},
   "outputs": [
    {
     "name": "stderr",
     "output_type": "stream",
     "text": [
      "INFO:__main__:Successfully retrieved temporary download URL for dataset file RAD62_OPER_O___TARVOL__L2__20220206T000000_20220207T000000_0001.tar\n"
     ]
    }
   ],
   "source": [
    "for date in [20220206, 20220520, 20220928]:\n",
    "    '''\n",
    "    Loop over the dates and download the data for each date.\n",
    "    '''    \n",
    "    try: \n",
    "        # Download the data with KNMI API\n",
    "        download_data(date)\n",
    "    except:\n",
    "        print('No data for', date)\n",
    "        continue\n",
    "    "
   ]
  }
 ],
 "metadata": {
  "kernelspec": {
   "display_name": "Python 3 (ipykernel)",
   "language": "python",
   "name": "python3"
  },
  "language_info": {
   "codemirror_mode": {
    "name": "ipython",
    "version": 3
   },
   "file_extension": ".py",
   "mimetype": "text/x-python",
   "name": "python",
   "nbconvert_exporter": "python",
   "pygments_lexer": "ipython3",
   "version": "3.9.0"
  }
 },
 "nbformat": 4,
 "nbformat_minor": 5
}
